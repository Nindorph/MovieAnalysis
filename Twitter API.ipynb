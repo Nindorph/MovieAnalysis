{
 "cells": [
  {
   "cell_type": "markdown",
   "metadata": {},
   "source": [
    "## Attempt to use Twitter API to pull additional data"
   ]
  },
  {
   "cell_type": "code",
   "execution_count": 1,
   "metadata": {},
   "outputs": [],
   "source": [
    "import requests\n",
    "import json\n",
    "import pandas as pd\n",
    "import os"
   ]
  },
  {
   "cell_type": "code",
   "execution_count": 2,
   "metadata": {},
   "outputs": [],
   "source": [
    "# Function to open / read json file\n",
    "\n",
    "def get_keys(path):\n",
    "    with open(path) as f:\n",
    "        return json.load(f)"
   ]
  },
  {
   "cell_type": "code",
   "execution_count": 3,
   "metadata": {},
   "outputs": [],
   "source": [
    "# Get bearer token\n",
    "\n",
    "path = '/Users/jeffreymarvel/.secret/twitter_api.json'\n",
    "t_api = get_keys(path)\n",
    "bearer_token = t_api['bearer_token']"
   ]
  },
  {
   "cell_type": "code",
   "execution_count": 4,
   "metadata": {},
   "outputs": [],
   "source": [
    "# Define query parameters\n",
    "\n",
    "search_url = \"https://api.twitter.com/2/tweets/search/recent\"\n",
    "\n",
    "query_params = {'query': '(from:abrosh21 -is:retweet)' ,'tweet.fields': 'author_id'}\n",
    "\n",
    "# OR #twitterdev'"
   ]
  },
  {
   "cell_type": "code",
   "execution_count": 5,
   "metadata": {},
   "outputs": [],
   "source": [
    "def bearer_oauth(r):\n",
    "    \"\"\"\n",
    "    Method required by bearer token authentication.\n",
    "    \"\"\"\n",
    "\n",
    "    r.headers[\"Authorization\"] = f\"Bearer {bearer_token}\"\n",
    "    r.headers[\"User-Agent\"] = \"v2RecentSearchPython\"\n",
    "    return r"
   ]
  },
  {
   "cell_type": "code",
   "execution_count": 6,
   "metadata": {},
   "outputs": [],
   "source": [
    "def connect_to_endpoint(url, params):\n",
    "    response = requests.get(url, auth=bearer_oauth, params=params)\n",
    "    print(response.status_code)\n",
    "    if response.status_code != 200:\n",
    "        raise Exception(response.status_code, response.text)\n",
    "    return response.json()"
   ]
  },
  {
   "cell_type": "code",
   "execution_count": 7,
   "metadata": {},
   "outputs": [],
   "source": [
    "def main():\n",
    "    json_response = connect_to_endpoint(search_url, query_params)\n",
    "    print(json.dumps(json_response, indent=4, sort_keys=True))"
   ]
  },
  {
   "cell_type": "code",
   "execution_count": 8,
   "metadata": {},
   "outputs": [
    {
     "name": "stdout",
     "output_type": "stream",
     "text": [
      "200\n",
      "{\n",
      "    \"data\": [\n",
      "        {\n",
      "            \"author_id\": \"481372787\",\n",
      "            \"id\": \"1435649270355427328\",\n",
      "            \"text\": \"@sportingnews Except for his MVP season\"\n",
      "        },\n",
      "        {\n",
      "            \"author_id\": \"481372787\",\n",
      "            \"id\": \"1435648959880392707\",\n",
      "            \"text\": \"@sportingnews He's very overrated.\"\n",
      "        },\n",
      "        {\n",
      "            \"author_id\": \"481372787\",\n",
      "            \"id\": \"1435648652089778181\",\n",
      "            \"text\": \"@TuftsAthletics @TuftsMensSoccer I can't see what happened.\"\n",
      "        },\n",
      "        {\n",
      "            \"author_id\": \"481372787\",\n",
      "            \"id\": \"1435647893319270403\",\n",
      "            \"text\": \"@nytimes This doesn't matter\"\n",
      "        },\n",
      "        {\n",
      "            \"author_id\": \"481372787\",\n",
      "            \"id\": \"1435435898074632194\",\n",
      "            \"text\": \"@sportingnews Clickbait trash\"\n",
      "        }\n",
      "    ],\n",
      "    \"meta\": {\n",
      "        \"newest_id\": \"1435649270355427328\",\n",
      "        \"oldest_id\": \"1435435898074632194\",\n",
      "        \"result_count\": 5\n",
      "    }\n",
      "}\n"
     ]
    }
   ],
   "source": [
    "if __name__ == \"__main__\":\n",
    "    main()"
   ]
  }
 ],
 "metadata": {
  "kernelspec": {
   "display_name": "Python (learn-env)",
   "language": "python",
   "name": "learn-env"
  },
  "language_info": {
   "codemirror_mode": {
    "name": "ipython",
    "version": 3
   },
   "file_extension": ".py",
   "mimetype": "text/x-python",
   "name": "python",
   "nbconvert_exporter": "python",
   "pygments_lexer": "ipython3",
   "version": "3.8.5"
  }
 },
 "nbformat": 4,
 "nbformat_minor": 4
}
