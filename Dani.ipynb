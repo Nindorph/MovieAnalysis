{
 "cells": [
  {
   "cell_type": "markdown",
   "metadata": {},
   "source": [
    "Stakeholders:\n",
    "a) C-suite employees (e.g., CEO, CFO, etc.) who will need to ensure profitability and lack of drain on the companies overall resources.\n",
    "\n",
    "b) Potential new employees, especially those who will run this new division. Because it takes exceptional organizational skills and industry knowledge to run a movie studio, Microsoft will need to vie for that talent. Showing that they have researched the business problem and received valuable insights, will help lure in those most qualified to launch this new studio. Demonstrating that the company has taken the effort to attain these insights also shows qualified candidates that they can rely upon C-suite employees to provide necessary resources (e.g., money, physical resources, physical space and further talent.) In other words C-suite will be demonstrating their willingness to support this new division by taking the initiative to gather preliminary insights.\n",
    "\n",
    "c) Potential writers, directors, cinematographers, etc. who will want to know that they if they sign on for individual or prolonged contracts, that there work, talent and time won't be wasted by a studio that is ill-equipped to produce what they are working on."
   ]
  }
 ],
 "metadata": {
  "kernelspec": {
   "display_name": "Python 3",
   "language": "python",
   "name": "python3"
  },
  "language_info": {
   "codemirror_mode": {
    "name": "ipython",
    "version": 3
   },
   "file_extension": ".py",
   "mimetype": "text/x-python",
   "name": "python",
   "nbconvert_exporter": "python",
   "pygments_lexer": "ipython3",
   "version": "3.8.5"
  }
 },
 "nbformat": 4,
 "nbformat_minor": 4
}
