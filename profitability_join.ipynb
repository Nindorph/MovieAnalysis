{
 "cells": [
  {
   "cell_type": "markdown",
   "metadata": {},
   "source": [
    "### Joining on IMBD basics with TN budgets\n",
    "\n"
   ]
  },
  {
   "cell_type": "code",
   "execution_count": 1,
   "metadata": {},
   "outputs": [],
   "source": [
    "import pandas as pd"
   ]
  },
  {
   "cell_type": "code",
   "execution_count": 9,
   "metadata": {
    "scrolled": false
   },
   "outputs": [
    {
     "name": "stdout",
     "output_type": "stream",
     "text": [
      "Data_cleaning_marvel.ipynb  movies.dat\r\n",
      "IDE_marvel.ipynb            movies_gross_clean.csv\r\n",
      "Profitability join.ipynb    ratings.dat\r\n",
      "README.md                   theNumbers_clean.csv\r\n",
      "Twitter_API.ipynb           twitter_reviews_clean.csv\r\n",
      "\u001b[1m\u001b[34mcleanIMDB\u001b[m\u001b[m/                  \u001b[1m\u001b[34mzippedData\u001b[m\u001b[m/\r\n"
     ]
    }
   ],
   "source": [
    "ls"
   ]
  },
  {
   "cell_type": "code",
   "execution_count": 37,
   "metadata": {
    "scrolled": true
   },
   "outputs": [
    {
     "name": "stdout",
     "output_type": "stream",
     "text": [
      "bom.movie_gross.csv.gz        imdb.title.ratings.csv.gz\r\n",
      "imdb.name.basics.csv.gz       rt.movie_info.tsv.gz\r\n",
      "imdb.title.akas.csv.gz        rt.reviews.tsv.gz\r\n",
      "imdb.title.basics.csv.gz      tmdb.movies.csv.gz\r\n",
      "imdb.title.crew.csv.gz        tn.movie_budgets.csv.gz\r\n",
      "imdb.title.principals.csv.gz\r\n"
     ]
    }
   ],
   "source": [
    "ls ./zippedData/"
   ]
  },
  {
   "cell_type": "code",
   "execution_count": 29,
   "metadata": {},
   "outputs": [],
   "source": [
    "tn_df = pd.read_csv('theNumbers_clean.csv')\n",
    "imdb_basics = pd.read_csv('./cleanIMDB/imdb_comp.csv')\n",
    "twitter_reviews = pd.read_csv('twitter_reviews_clean.csv')\n",
    "movies_gross = pd.read_csv('movies_gross_clean.csv')"
   ]
  },
  {
   "cell_type": "code",
   "execution_count": 15,
   "metadata": {},
   "outputs": [
    {
     "name": "stdout",
     "output_type": "stream",
     "text": [
      "10073\n",
      "35\n"
     ]
    }
   ],
   "source": [
    "# Check number of duplicates in each dataset\n",
    "\n",
    "print(imdb_basics.duplicated(subset='primary_title').sum())\n",
    "print(tn_df['movie'].duplicated().sum())"
   ]
  },
  {
   "cell_type": "code",
   "execution_count": 45,
   "metadata": {},
   "outputs": [
    {
     "data": {
      "text/html": [
       "<div>\n",
       "<style scoped>\n",
       "    .dataframe tbody tr th:only-of-type {\n",
       "        vertical-align: middle;\n",
       "    }\n",
       "\n",
       "    .dataframe tbody tr th {\n",
       "        vertical-align: top;\n",
       "    }\n",
       "\n",
       "    .dataframe thead th {\n",
       "        text-align: right;\n",
       "    }\n",
       "</style>\n",
       "<table border=\"1\" class=\"dataframe\">\n",
       "  <thead>\n",
       "    <tr style=\"text-align: right;\">\n",
       "      <th></th>\n",
       "      <th>Unnamed: 0</th>\n",
       "      <th>tconst</th>\n",
       "      <th>primary_title</th>\n",
       "      <th>original_title</th>\n",
       "      <th>start_year</th>\n",
       "      <th>runtime_minutes</th>\n",
       "      <th>genres</th>\n",
       "      <th>averagerating</th>\n",
       "      <th>numvotes</th>\n",
       "      <th>directors</th>\n",
       "      <th>...</th>\n",
       "      <th>archive_footage</th>\n",
       "      <th>archive_sound</th>\n",
       "      <th>cinematographer</th>\n",
       "      <th>composer</th>\n",
       "      <th>director_pr</th>\n",
       "      <th>editor</th>\n",
       "      <th>producer</th>\n",
       "      <th>production_designer</th>\n",
       "      <th>self</th>\n",
       "      <th>writer_pr</th>\n",
       "    </tr>\n",
       "  </thead>\n",
       "  <tbody>\n",
       "    <tr>\n",
       "      <th>0</th>\n",
       "      <td>0</td>\n",
       "      <td>tt0063540</td>\n",
       "      <td>Sunghursh</td>\n",
       "      <td>Sunghursh</td>\n",
       "      <td>2013</td>\n",
       "      <td>175.0</td>\n",
       "      <td>['Action', 'Crime', 'Drama']</td>\n",
       "      <td>7.0</td>\n",
       "      <td>77.0</td>\n",
       "      <td>['nm0712540']</td>\n",
       "      <td>...</td>\n",
       "      <td>NaN</td>\n",
       "      <td>NaN</td>\n",
       "      <td>NaN</td>\n",
       "      <td>['nm0006210']</td>\n",
       "      <td>['nm0712540']</td>\n",
       "      <td>NaN</td>\n",
       "      <td>NaN</td>\n",
       "      <td>NaN</td>\n",
       "      <td>NaN</td>\n",
       "      <td>['nm0023551', 'nm1194313', 'nm0347899', 'nm139...</td>\n",
       "    </tr>\n",
       "  </tbody>\n",
       "</table>\n",
       "<p>1 rows × 23 columns</p>\n",
       "</div>"
      ],
      "text/plain": [
       "   Unnamed: 0     tconst primary_title original_title  start_year  \\\n",
       "0           0  tt0063540     Sunghursh      Sunghursh        2013   \n",
       "\n",
       "   runtime_minutes                        genres  averagerating  numvotes  \\\n",
       "0            175.0  ['Action', 'Crime', 'Drama']            7.0      77.0   \n",
       "\n",
       "       directors  ... archive_footage archive_sound cinematographer  \\\n",
       "0  ['nm0712540']  ...             NaN           NaN             NaN   \n",
       "\n",
       "        composer    director_pr editor producer production_designer self  \\\n",
       "0  ['nm0006210']  ['nm0712540']    NaN      NaN                 NaN  NaN   \n",
       "\n",
       "                                           writer_pr  \n",
       "0  ['nm0023551', 'nm1194313', 'nm0347899', 'nm139...  \n",
       "\n",
       "[1 rows x 23 columns]"
      ]
     },
     "execution_count": 45,
     "metadata": {},
     "output_type": "execute_result"
    }
   ],
   "source": [
    "imdb_basics.head(1)"
   ]
  },
  {
   "cell_type": "code",
   "execution_count": 46,
   "metadata": {},
   "outputs": [
    {
     "data": {
      "text/html": [
       "<div>\n",
       "<style scoped>\n",
       "    .dataframe tbody tr th:only-of-type {\n",
       "        vertical-align: middle;\n",
       "    }\n",
       "\n",
       "    .dataframe tbody tr th {\n",
       "        vertical-align: top;\n",
       "    }\n",
       "\n",
       "    .dataframe thead th {\n",
       "        text-align: right;\n",
       "    }\n",
       "</style>\n",
       "<table border=\"1\" class=\"dataframe\">\n",
       "  <thead>\n",
       "    <tr style=\"text-align: right;\">\n",
       "      <th></th>\n",
       "      <th>Unnamed: 0</th>\n",
       "      <th>id</th>\n",
       "      <th>release_date</th>\n",
       "      <th>movie</th>\n",
       "      <th>production_budget</th>\n",
       "      <th>domestic_gross</th>\n",
       "      <th>worldwide_gross</th>\n",
       "      <th>ROI %</th>\n",
       "      <th>ROI $</th>\n",
       "      <th>year</th>\n",
       "      <th>month</th>\n",
       "      <th>inflation</th>\n",
       "      <th>worldwide_gross_inf</th>\n",
       "      <th>domestic_gross_inf</th>\n",
       "      <th>production_budget_inf</th>\n",
       "      <th>ROI $ Inf</th>\n",
       "    </tr>\n",
       "  </thead>\n",
       "  <tbody>\n",
       "    <tr>\n",
       "      <th>0</th>\n",
       "      <td>0</td>\n",
       "      <td>1</td>\n",
       "      <td>Dec 18, 2009</td>\n",
       "      <td>Avatar</td>\n",
       "      <td>425000000</td>\n",
       "      <td>760507625</td>\n",
       "      <td>2776345279</td>\n",
       "      <td>5.532577</td>\n",
       "      <td>2351345279</td>\n",
       "      <td>2009</td>\n",
       "      <td>December</td>\n",
       "      <td>1.27</td>\n",
       "      <td>3.525959e+09</td>\n",
       "      <td>9.658447e+08</td>\n",
       "      <td>539750000.0</td>\n",
       "      <td>2.986209e+09</td>\n",
       "    </tr>\n",
       "  </tbody>\n",
       "</table>\n",
       "</div>"
      ],
      "text/plain": [
       "   Unnamed: 0  id  release_date   movie  production_budget  domestic_gross  \\\n",
       "0           0   1  Dec 18, 2009  Avatar          425000000       760507625   \n",
       "\n",
       "   worldwide_gross     ROI %       ROI $  year     month  inflation  \\\n",
       "0       2776345279  5.532577  2351345279  2009  December       1.27   \n",
       "\n",
       "   worldwide_gross_inf  domestic_gross_inf  production_budget_inf  \\\n",
       "0         3.525959e+09        9.658447e+08            539750000.0   \n",
       "\n",
       "      ROI $ Inf  \n",
       "0  2.986209e+09  "
      ]
     },
     "execution_count": 46,
     "metadata": {},
     "output_type": "execute_result"
    }
   ],
   "source": [
    "tn_df.head(1)"
   ]
  },
  {
   "cell_type": "code",
   "execution_count": 47,
   "metadata": {},
   "outputs": [],
   "source": [
    "# Concatenate movie name and year together, creating a new column called 'concat'\n",
    "\n",
    "tn_df['concat'] = tn_df['movie'] + tn_df['year'].apply(lambda x: str(x))\n",
    "imdb_basics['concat'] = imdb_basics['primary_title'] + imdb_basics['start_year'].apply(lambda x: str(x))"
   ]
  },
  {
   "cell_type": "code",
   "execution_count": 58,
   "metadata": {},
   "outputs": [],
   "source": [
    "# Join based on our new concatenated field\n",
    "\n",
    "imdb_combined = imdb_basics.merge(tn_df, how='inner', on='concat')"
   ]
  },
  {
   "cell_type": "code",
   "execution_count": 23,
   "metadata": {},
   "outputs": [],
   "source": [
    "# Check how clean the star wars data is\n",
    "\n",
    "# tn_star_wars = tn_df[tn_df['movie'].apply(lambda x: x.startswith('Star Wars'))]\n",
    "# imdb_star_wars = imdb_basics[imdb_basics['primary_title'].apply(lambda x: x.startswith('Star Wars'))]"
   ]
  },
  {
   "cell_type": "code",
   "execution_count": 59,
   "metadata": {},
   "outputs": [],
   "source": [
    "imdb_combined.to_csv('imdb_combined_prof.csv')"
   ]
  }
 ],
 "metadata": {
  "kernelspec": {
   "display_name": "Python 3",
   "language": "python",
   "name": "python3"
  },
  "language_info": {
   "codemirror_mode": {
    "name": "ipython",
    "version": 3
   },
   "file_extension": ".py",
   "mimetype": "text/x-python",
   "name": "python",
   "nbconvert_exporter": "python",
   "pygments_lexer": "ipython3",
   "version": "3.8.5"
  }
 },
 "nbformat": 4,
 "nbformat_minor": 4
}
