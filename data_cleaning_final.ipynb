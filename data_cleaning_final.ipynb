{
 "cells": [
  {
   "cell_type": "code",
   "execution_count": 1,
   "metadata": {},
   "outputs": [],
   "source": [
    "import pandas as pd\n",
    "import matplotlib.pyplot as plt\n",
    "import numpy as np\n",
    "import seaborn as sns\n",
    "%matplotlib inline"
   ]
  },
  {
   "cell_type": "markdown",
   "metadata": {},
   "source": [
    "## IMDB data cleaning"
   ]
  },
  {
   "cell_type": "code",
   "execution_count": 2,
   "metadata": {},
   "outputs": [],
   "source": [
    "# Read in imdb CSVs\n",
    "\n",
    "imdb_name_basics_df = pd.read_csv(f'zippedData/imdb.name.basics.csv.gz', encoding='utf-8')\n",
    "imdb_title_basics_df = pd.read_csv(f'zippedData/imdb.title.basics.csv.gz', encoding='utf-8')\n",
    "imdb_title_crew_df = pd.read_csv(f'zippedData/imdb.title.crew.csv.gz', encoding='utf-8')\n",
    "imdb_title_principals_df = pd.read_csv(f'zippedData/imdb.title.principals.csv.gz', encoding='utf-8')\n",
    "imdb_title_ratings_df = pd.read_csv(f'zippedData/imdb.title.ratings.csv.gz', encoding='utf-8')"
   ]
  },
  {
   "cell_type": "code",
   "execution_count": 3,
   "metadata": {},
   "outputs": [],
   "source": [
    "# Function to split multiple results into lists, skipping NaN values for cleaning later\n",
    "def sepc_nonu(sodf):\n",
    "    if pd.isna(sodf):\n",
    "        return sodf\n",
    "    try:\n",
    "        return str(sodf).split(',')\n",
    "    except:\n",
    "        return sodf"
   ]
  },
  {
   "cell_type": "code",
   "execution_count": 4,
   "metadata": {},
   "outputs": [],
   "source": [
    "# split multiple values into list of values for names\n",
    "imdb_name_basics_df[['primary_profession','known_for_titles']] = \\\n",
    "imdb_name_basics_df[['primary_profession','known_for_titles']].applymap(sepc_nonu)"
   ]
  },
  {
   "cell_type": "code",
   "execution_count": 5,
   "metadata": {},
   "outputs": [],
   "source": [
    "# split multiple values into list of values for genres\n",
    "imdb_title_basics_df['genres'] = imdb_title_basics_df['genres'].map(sepc_nonu)"
   ]
  },
  {
   "cell_type": "code",
   "execution_count": 6,
   "metadata": {},
   "outputs": [],
   "source": [
    "# split multiple values into list of values for names\n",
    "imdb_title_crew_df[['directors','writers']] = imdb_title_crew_df[['directors','writers']].applymap(sepc_nonu)"
   ]
  },
  {
   "cell_type": "markdown",
   "metadata": {},
   "source": [
    "Now we have some tables with accessible id numbers.\n",
    "\n",
    "We should figure out how to organize the table now. Since we're looking for revenue/ROI, the fundamental organizer should be the title, which we have money info for. Therefore, the leftmost data should be title information.\n",
    " - imdb_title_basics\n",
    "\n",
    "Next should be ratings info from IMDB, for ease. We'll join the ratings to the basics.\n",
    " - imdb_title_ratings\n",
    "\n",
    "We can ignore the following dataframe, as it's just a list of foreign translations of movies we already have American English titles for:\n",
    " - imdb_title_akas"
   ]
  },
  {
   "cell_type": "code",
   "execution_count": 7,
   "metadata": {},
   "outputs": [],
   "source": [
    "imdb_title_basicsratings_df = imdb_title_basics_df.merge(imdb_title_ratings_df, how='left', on='tconst')"
   ]
  },
  {
   "cell_type": "markdown",
   "metadata": {},
   "source": [
    "Now we need to find a way to access cast/crew info, should we want to know that information downstream.  I think the best way to do this is to use tconst to merge\n",
    " - imdb_title_crew\n",
    " - imdb_title_principals\n",
    "\n",
    "with\n",
    " - imdb_title_basicsratings\n",
    "\n",
    "There are identifying keys in \n",
    " - imdb_name_basics\n",
    " \n",
    "that we can later use to get the names using 'nconst' (and other info, like if they've died)."
   ]
  },
  {
   "cell_type": "code",
   "execution_count": 8,
   "metadata": {},
   "outputs": [],
   "source": [
    "imdb_comp = imdb_title_basicsratings_df.merge(imdb_title_crew_df, how='left', on='tconst')"
   ]
  },
  {
   "cell_type": "code",
   "execution_count": 9,
   "metadata": {},
   "outputs": [],
   "source": [
    "# 'job' and 'characters' provide unnecessary information for our purposes\n",
    "imdb_title_principals_df = imdb_title_principals_df.drop(['job','characters'],axis=1)"
   ]
  },
  {
   "cell_type": "code",
   "execution_count": 10,
   "metadata": {},
   "outputs": [],
   "source": [
    "# group by movie and category, make into a list of name ids\n",
    "imdb_princ_group = imdb_title_principals_df.groupby(['tconst','category'])['nconst'].apply(list)"
   ]
  },
  {
   "cell_type": "code",
   "execution_count": 14,
   "metadata": {},
   "outputs": [],
   "source": [
    "# reset the index\n",
    "imdb_princ_group = imdb_princ_group.reset_index()"
   ]
  },
  {
   "cell_type": "code",
   "execution_count": 15,
   "metadata": {},
   "outputs": [],
   "source": [
    "# pivot the table to have tconst as the index, columns with the 'category' job titles, and\n",
    "# values of the lists of name ids\n",
    "imdb_princ_grppiv = imdb_princ_group.pivot(index='tconst',columns='category',values='nconst')"
   ]
  },
  {
   "cell_type": "code",
   "execution_count": 16,
   "metadata": {},
   "outputs": [],
   "source": [
    "# change column names to prevent conflicts with downstream merging\n",
    "imdb_princ_grppiv.rename(mapper={'director':'director_pr', 'writer':'writer_pr'}, axis=1, inplace=True)"
   ]
  },
  {
   "cell_type": "markdown",
   "metadata": {},
   "source": [
    "Alright so now we have\n",
    " - imdb_comp\n",
    "with title info and the director/writer column. Let's add the principal columns from\n",
    " - imdb_princ_grppiv"
   ]
  },
  {
   "cell_type": "code",
   "execution_count": 17,
   "metadata": {},
   "outputs": [],
   "source": [
    "imdb_comp = imdb_comp.merge(imdb_princ_grppiv, how='left', on='tconst')"
   ]
  },
  {
   "cell_type": "code",
   "execution_count": 18,
   "metadata": {},
   "outputs": [
    {
     "name": "stdout",
     "output_type": "stream",
     "text": [
      "mkdir: cleanIMDB: File exists\r\n"
     ]
    }
   ],
   "source": [
    "# Make a new directory to store the clean files\n",
    "\n",
    "!mkdir cleanIMDB"
   ]
  },
  {
   "cell_type": "code",
   "execution_count": 19,
   "metadata": {},
   "outputs": [],
   "source": [
    "# Export clean IMDB files to CSV\n",
    "\n",
    "imdb_comp.to_csv('cleanIMDB/imdb_comp.csv')\n",
    "imdb_name_basics_df.to_csv('cleanIMDB/imdb_namekey.csv')"
   ]
  },
  {
   "cell_type": "markdown",
   "metadata": {},
   "source": [
    "## Data cleaning for The Numbers and Data.World Twitter Reviews"
   ]
  },
  {
   "cell_type": "code",
   "execution_count": 20,
   "metadata": {},
   "outputs": [],
   "source": [
    "# Reading in compressed csv\n",
    "\n",
    "tn_budgets = pd.read_csv('./zippedData/tn.movie_budgets.csv.gz')"
   ]
  },
  {
   "cell_type": "code",
   "execution_count": 21,
   "metadata": {},
   "outputs": [],
   "source": [
    "# Global variables\n",
    "\n",
    "first_year = 2010\n",
    "review_count_threshold = 50"
   ]
  },
  {
   "cell_type": "code",
   "execution_count": 22,
   "metadata": {},
   "outputs": [
    {
     "name": "stderr",
     "output_type": "stream",
     "text": [
      "<ipython-input-22-4538fe068736>:3: ParserWarning: Falling back to the 'python' engine because the 'c' engine does not support regex separators (separators > 1 char and different from '\\s+' are interpreted as regex); you can avoid this warning by specifying engine='python'.\n",
      "  dataworld_movies = pd.read_csv('movies.dat', sep='::', names=['movie_id', 'name/year', 'genre'])\n",
      "<ipython-input-22-4538fe068736>:4: ParserWarning: Falling back to the 'python' engine because the 'c' engine does not support regex separators (separators > 1 char and different from '\\s+' are interpreted as regex); you can avoid this warning by specifying engine='python'.\n",
      "  dataworld_reviews = pd.read_csv('ratings.dat', sep='::', names=['user_id', 'movie_id', 'rating', 'rating_timestamp'])\n"
     ]
    }
   ],
   "source": [
    "# Reading in .dat files\n",
    "\n",
    "dataworld_movies = pd.read_csv('movies.dat', sep='::', names=['movie_id', 'name/year', 'genre'])\n",
    "dataworld_reviews = pd.read_csv('ratings.dat', sep='::', names=['user_id', 'movie_id', 'rating', 'rating_timestamp'])"
   ]
  },
  {
   "cell_type": "markdown",
   "metadata": {},
   "source": [
    "## The Numbers (TN) budgets\n",
    "\n",
    "### Data Cleaning Summary\n",
    "\n",
    "- Converted all budget info (revenue, costs) to integers\n",
    "- Calculated % and dollars of ROI. ROI calc is (worldwide gross - budget) / budget\n",
    "- Split release_date into separate month and year columns\n",
    "- Filtered for only movies after 2010. Rationale is that we are trying to make relevant recommendations to a newly launched studio. Trends prior to 2010 probably don't have as much relevance. There's an argument to be made that we should be filtering on even more recent data.\n",
    "- Removed movies with 0 worldwide_gross. Believe this is a combinatoin of (1) data error (confirmed released movies with revenue have 0 in this column) or (2) movies recently made that haven't been released yet.\n",
    "- Adjusted revenue / expenses for inflation (after confirming via Google searches that it wasn't already adjusted).\n",
    "- Decided to leave the 84 movies that were duplicated (given such a small part of the sample)\n",
    "\n",
    "source: https://www.usinflationcalculator.com"
   ]
  },
  {
   "cell_type": "code",
   "execution_count": 23,
   "metadata": {},
   "outputs": [],
   "source": [
    "# Convert string columns to int\n",
    "\n",
    "rev_cols = ['production_budget', 'domestic_gross', 'worldwide_gross']\n",
    "\n",
    "tn_budgets.loc[:,rev_cols] = tn_budgets.loc[:,rev_cols].applymap(lambda x: int(x.replace('$', '').replace(',','')))"
   ]
  },
  {
   "cell_type": "code",
   "execution_count": 24,
   "metadata": {},
   "outputs": [],
   "source": [
    "# Calculate ROI ($ and %)\n",
    "\n",
    "tn_budgets['ROI_percent'] = (tn_budgets['worldwide_gross'] - tn_budgets['production_budget']) / tn_budgets['production_budget']\n",
    "tn_budgets['ROI_usd'] = tn_budgets['worldwide_gross'] - tn_budgets['production_budget']"
   ]
  },
  {
   "cell_type": "code",
   "execution_count": 25,
   "metadata": {},
   "outputs": [],
   "source": [
    "# Parse release date for year / months\n",
    "\n",
    "tn_budgets['year'] = tn_budgets['release_date'].apply(lambda x: int(x[-4:]))\n",
    "tn_budgets['month'] = tn_budgets['release_date'].apply(lambda x: x[:3])\n",
    "\n",
    "month_full = {'Jan': 'January', 'Feb': 'February', 'Mar': 'March', 'Apr': 'April', 'Jun': 'June',\n",
    "             'Jul': 'July', 'Aug': 'August', 'Sep': 'September', 'Oct': 'October', 'Nov': 'November',\n",
    "              'Dec': 'December'}\n",
    "\n",
    "tn_budgets['month'] = tn_budgets['month'].replace(month_full)"
   ]
  },
  {
   "cell_type": "code",
   "execution_count": 26,
   "metadata": {},
   "outputs": [],
   "source": [
    "# Filter for only recent releases\n",
    "\n",
    "tn_budgets_recent = tn_budgets[tn_budgets['year'] >= 1990]"
   ]
  },
  {
   "cell_type": "code",
   "execution_count": 27,
   "metadata": {},
   "outputs": [],
   "source": [
    "# Filter out movies with 0 world_wide gross\n",
    "\n",
    "tn_budgets_recent = tn_budgets_recent[tn_budgets_recent['worldwide_gross'] != 0]"
   ]
  },
  {
   "cell_type": "code",
   "execution_count": 28,
   "metadata": {},
   "outputs": [],
   "source": [
    "# Adjust revenue #'s for inflation\n",
    "\n",
    "years = list(range(1990,2022))\n",
    "\n",
    "inflation = [2.09, 2.00, 1.95, 1.89, 1.84, 1.79, 1.74, 1.70, 1.67, 1.64, 1.59, 1.54, 1.52, 1.48, 1.45, 1.40, 1.35, \n",
    "1.32, 1.27, 1.27, 1.25, 1.21, 1.19, 1.17, 1.15, 1.15, 1.14, 1.11, 1.09, 1.07, 1.05, 1.00]\n",
    "\n",
    "inflation_dict = dict(zip(years,inflation))"
   ]
  },
  {
   "cell_type": "code",
   "execution_count": 29,
   "metadata": {},
   "outputs": [],
   "source": [
    "tn_budgets_recent['inflation'] = tn_budgets_recent['year'].apply(lambda x: inflation_dict[x])"
   ]
  },
  {
   "cell_type": "code",
   "execution_count": 30,
   "metadata": {},
   "outputs": [],
   "source": [
    "# Convert all $ to 2021\n",
    "\n",
    "tn_budgets_recent['worldwide_gross_inf'] = tn_budgets_recent.loc[:,'worldwide_gross'] * tn_budgets_recent.loc[:,'inflation']\n",
    "tn_budgets_recent['domestic_gross_inf'] = tn_budgets_recent.loc[:,'domestic_gross'] * tn_budgets_recent.loc[:,'inflation']\n",
    "tn_budgets_recent['production_budget_inf'] = tn_budgets_recent.loc[:,'production_budget'] * tn_budgets_recent.loc[:,'inflation']"
   ]
  },
  {
   "cell_type": "code",
   "execution_count": 31,
   "metadata": {},
   "outputs": [],
   "source": [
    "tn_budgets_recent['ROI_USD_inf'] = tn_budgets_recent['worldwide_gross_inf'] - tn_budgets_recent['production_budget_inf']"
   ]
  },
  {
   "cell_type": "code",
   "execution_count": 32,
   "metadata": {},
   "outputs": [],
   "source": [
    "# Filter for only recent releases\n",
    "\n",
    "tn_budgets_recent = tn_budgets_recent[tn_budgets_recent['year'] >= first_year]"
   ]
  },
  {
   "cell_type": "code",
   "execution_count": 33,
   "metadata": {},
   "outputs": [],
   "source": [
    "tn_budgets_clean = tn_budgets_recent.copy()"
   ]
  },
  {
   "cell_type": "markdown",
   "metadata": {},
   "source": [
    "## Dataworld movies / reviews\n",
    "\n",
    "- Cleaning: Separated Name/year from the same column\n",
    "- Separated genre into a list\n",
    "- Joined the databases together\n",
    "- Drop the few NaN values from genre. Only 80 out of 38K\n",
    "- For the reviews. Group by movie ID and aggregate average review and count\n",
    "- Set threshold for 50 reviews to be included in the dataset"
   ]
  },
  {
   "cell_type": "code",
   "execution_count": 34,
   "metadata": {},
   "outputs": [],
   "source": [
    "# Create a copy\n",
    "\n",
    "dataworld_clean = dataworld_movies.copy()"
   ]
  },
  {
   "cell_type": "code",
   "execution_count": 35,
   "metadata": {},
   "outputs": [],
   "source": [
    "# Separate out name and year into separate columns\n",
    "\n",
    "dataworld_clean['year'] = dataworld_clean.loc[:,'name/year'].apply(lambda x: int(x[-5:-1]))\n",
    "dataworld_clean['name'] = dataworld_clean.loc[:,'name/year'].apply(lambda x: x[0:-7])"
   ]
  },
  {
   "cell_type": "code",
   "execution_count": 36,
   "metadata": {},
   "outputs": [],
   "source": [
    "# Drop NAs\n",
    "\n",
    "dataworld_clean.dropna(subset=['genre'], inplace=True)"
   ]
  },
  {
   "cell_type": "code",
   "execution_count": 37,
   "metadata": {},
   "outputs": [],
   "source": [
    "# Separate out the different genres\n",
    "\n",
    "dataworld_clean['genre_list'] = dataworld_clean.loc[:,'genre'].apply(lambda x: x.split('|'))\n",
    "dataworld_clean['genre_length'] = dataworld_clean.loc[:,'genre_list'].apply(lambda x: len(x))"
   ]
  },
  {
   "cell_type": "code",
   "execution_count": 38,
   "metadata": {},
   "outputs": [],
   "source": [
    "reviews_clean = dataworld_reviews.copy()\n",
    "reviews_clean['rating2'] = reviews_clean.loc[:,'rating']"
   ]
  },
  {
   "cell_type": "code",
   "execution_count": 39,
   "metadata": {},
   "outputs": [],
   "source": [
    "# Aggregate movies by avg review and review_count\n",
    "\n",
    "new_cols = {'rating': 'avg_rating', 'rating2': 'rating_count'}\n",
    "reviews_clean = reviews_clean.groupby('movie_id').agg({'rating':'mean', 'rating2':'count'}).rename(columns=new_cols)"
   ]
  },
  {
   "cell_type": "code",
   "execution_count": 40,
   "metadata": {},
   "outputs": [],
   "source": [
    "# Join the two dataframes on movieID\n",
    "\n",
    "dataworld_clean = dataworld_clean.merge(reviews_clean, on='movie_id', how='left')"
   ]
  },
  {
   "cell_type": "code",
   "execution_count": 41,
   "metadata": {},
   "outputs": [],
   "source": [
    "# Filter for only movies made since 2000\n",
    "\n",
    "dataworld_clean = dataworld_clean[dataworld_clean['year'] >= first_year]"
   ]
  },
  {
   "cell_type": "code",
   "execution_count": 42,
   "metadata": {},
   "outputs": [],
   "source": [
    "# Filter for movies with at least 50 reviews\n",
    "\n",
    "dataworld_clean = dataworld_clean[dataworld_clean['rating_count'] >= review_count_threshold]"
   ]
  },
  {
   "cell_type": "code",
   "execution_count": 43,
   "metadata": {},
   "outputs": [],
   "source": [
    "# Final datasets to export to CSV\n",
    "\n",
    "tn_budgets_clean.to_csv('theNumbers_clean.csv')\n",
    "dataworld_clean.to_csv('twitter_reviews_clean.csv')"
   ]
  },
  {
   "cell_type": "markdown",
   "metadata": {},
   "source": [
    "## Join profitability data to the clean IMDB file"
   ]
  },
  {
   "cell_type": "code",
   "execution_count": 44,
   "metadata": {},
   "outputs": [],
   "source": [
    "# Read in cleaned CSVs\n",
    "\n",
    "tn_df = pd.read_csv('theNumbers_clean.csv')\n",
    "imdb_basics = pd.read_csv('./cleanIMDB/imdb_comp.csv')\n",
    "twitter_reviews = pd.read_csv('twitter_reviews_clean.csv')"
   ]
  },
  {
   "cell_type": "code",
   "execution_count": 45,
   "metadata": {},
   "outputs": [],
   "source": [
    "# Concatenate movie name and year together, creating a new column called 'concat'\n",
    "\n",
    "tn_df['concat'] = tn_df['movie'] + tn_df['year'].apply(lambda x: str(x))\n",
    "imdb_basics['concat'] = imdb_basics['primary_title'] + imdb_basics['start_year'].apply(lambda x: str(x))"
   ]
  },
  {
   "cell_type": "code",
   "execution_count": 46,
   "metadata": {},
   "outputs": [],
   "source": [
    "# Join based on our new concatenated field\n",
    "\n",
    "imdb_combined = imdb_basics.merge(tn_df, how='inner', on='concat')"
   ]
  },
  {
   "cell_type": "code",
   "execution_count": 47,
   "metadata": {},
   "outputs": [],
   "source": [
    "# create a new column for ROI %, using gross & budget adjusted for inflation\n",
    "imdb_combined['ROI%_inf'] = (imdb_combined['worldwide_gross_inf']-imdb_combined['production_budget_inf'])\\\n",
    "                             / imdb_combined['production_budget_inf'] * 100"
   ]
  },
  {
   "cell_type": "code",
   "execution_count": 48,
   "metadata": {},
   "outputs": [
    {
     "data": {
      "text/html": [
       "<div>\n",
       "<style scoped>\n",
       "    .dataframe tbody tr th:only-of-type {\n",
       "        vertical-align: middle;\n",
       "    }\n",
       "\n",
       "    .dataframe tbody tr th {\n",
       "        vertical-align: top;\n",
       "    }\n",
       "\n",
       "    .dataframe thead th {\n",
       "        text-align: right;\n",
       "    }\n",
       "</style>\n",
       "<table border=\"1\" class=\"dataframe\">\n",
       "  <thead>\n",
       "    <tr style=\"text-align: right;\">\n",
       "      <th></th>\n",
       "      <th>Unnamed: 0_x</th>\n",
       "      <th>tconst</th>\n",
       "      <th>primary_title</th>\n",
       "      <th>original_title</th>\n",
       "      <th>start_year</th>\n",
       "      <th>runtime_minutes</th>\n",
       "      <th>genres</th>\n",
       "      <th>averagerating</th>\n",
       "      <th>numvotes</th>\n",
       "      <th>directors</th>\n",
       "      <th>...</th>\n",
       "      <th>ROI_percent</th>\n",
       "      <th>ROI_usd</th>\n",
       "      <th>year</th>\n",
       "      <th>month</th>\n",
       "      <th>inflation</th>\n",
       "      <th>worldwide_gross_inf</th>\n",
       "      <th>domestic_gross_inf</th>\n",
       "      <th>production_budget_inf</th>\n",
       "      <th>ROI_USD_inf</th>\n",
       "      <th>ROI%_inf</th>\n",
       "    </tr>\n",
       "  </thead>\n",
       "  <tbody>\n",
       "    <tr>\n",
       "      <th>910</th>\n",
       "      <td>35625</td>\n",
       "      <td>tt2309260</td>\n",
       "      <td>The Gallows</td>\n",
       "      <td>The Gallows</td>\n",
       "      <td>2015</td>\n",
       "      <td>81.0</td>\n",
       "      <td>['Horror', 'Mystery', 'Thriller']</td>\n",
       "      <td>4.2</td>\n",
       "      <td>17763.0</td>\n",
       "      <td>['nm4000389', 'nm3951039']</td>\n",
       "      <td>...</td>\n",
       "      <td>415.564740</td>\n",
       "      <td>41556474</td>\n",
       "      <td>2015</td>\n",
       "      <td>July</td>\n",
       "      <td>1.15</td>\n",
       "      <td>4.790495e+07</td>\n",
       "      <td>2.617907e+07</td>\n",
       "      <td>115000.0</td>\n",
       "      <td>4.778995e+07</td>\n",
       "      <td>41556.474000</td>\n",
       "    </tr>\n",
       "    <tr>\n",
       "      <th>482</th>\n",
       "      <td>9487</td>\n",
       "      <td>tt1560985</td>\n",
       "      <td>The Devil Inside</td>\n",
       "      <td>The Devil Inside</td>\n",
       "      <td>2012</td>\n",
       "      <td>83.0</td>\n",
       "      <td>['Horror']</td>\n",
       "      <td>4.2</td>\n",
       "      <td>33522.0</td>\n",
       "      <td>['nm0068587']</td>\n",
       "      <td>...</td>\n",
       "      <td>100.759490</td>\n",
       "      <td>100759490</td>\n",
       "      <td>2012</td>\n",
       "      <td>January</td>\n",
       "      <td>1.19</td>\n",
       "      <td>1.210938e+08</td>\n",
       "      <td>6.338290e+07</td>\n",
       "      <td>1190000.0</td>\n",
       "      <td>1.199038e+08</td>\n",
       "      <td>10075.949000</td>\n",
       "    </tr>\n",
       "    <tr>\n",
       "      <th>466</th>\n",
       "      <td>8964</td>\n",
       "      <td>tt1536044</td>\n",
       "      <td>Paranormal Activity 2</td>\n",
       "      <td>Paranormal Activity 2</td>\n",
       "      <td>2010</td>\n",
       "      <td>91.0</td>\n",
       "      <td>['Horror']</td>\n",
       "      <td>5.7</td>\n",
       "      <td>93122.0</td>\n",
       "      <td>['nm0931095']</td>\n",
       "      <td>...</td>\n",
       "      <td>58.170677</td>\n",
       "      <td>174512032</td>\n",
       "      <td>2010</td>\n",
       "      <td>October</td>\n",
       "      <td>1.25</td>\n",
       "      <td>2.218900e+08</td>\n",
       "      <td>1.059411e+08</td>\n",
       "      <td>3750000.0</td>\n",
       "      <td>2.181400e+08</td>\n",
       "      <td>5817.067733</td>\n",
       "    </tr>\n",
       "    <tr>\n",
       "      <th>1318</th>\n",
       "      <td>87039</td>\n",
       "      <td>tt5052448</td>\n",
       "      <td>Get Out</td>\n",
       "      <td>Get Out</td>\n",
       "      <td>2017</td>\n",
       "      <td>104.0</td>\n",
       "      <td>['Horror', 'Mystery', 'Thriller']</td>\n",
       "      <td>7.7</td>\n",
       "      <td>400474.0</td>\n",
       "      <td>['nm1443502']</td>\n",
       "      <td>...</td>\n",
       "      <td>50.073590</td>\n",
       "      <td>250367951</td>\n",
       "      <td>2017</td>\n",
       "      <td>February</td>\n",
       "      <td>1.11</td>\n",
       "      <td>2.834584e+08</td>\n",
       "      <td>1.954051e+08</td>\n",
       "      <td>5550000.0</td>\n",
       "      <td>2.779084e+08</td>\n",
       "      <td>5007.359020</td>\n",
       "    </tr>\n",
       "    <tr>\n",
       "      <th>1312</th>\n",
       "      <td>85930</td>\n",
       "      <td>tt4975722</td>\n",
       "      <td>Moonlight</td>\n",
       "      <td>Moonlight</td>\n",
       "      <td>2016</td>\n",
       "      <td>111.0</td>\n",
       "      <td>['Drama']</td>\n",
       "      <td>7.4</td>\n",
       "      <td>227964.0</td>\n",
       "      <td>['nm1503575']</td>\n",
       "      <td>...</td>\n",
       "      <td>42.497008</td>\n",
       "      <td>63745512</td>\n",
       "      <td>2016</td>\n",
       "      <td>October</td>\n",
       "      <td>1.14</td>\n",
       "      <td>7.437988e+07</td>\n",
       "      <td>3.175462e+07</td>\n",
       "      <td>1710000.0</td>\n",
       "      <td>7.266988e+07</td>\n",
       "      <td>4249.700800</td>\n",
       "    </tr>\n",
       "    <tr>\n",
       "      <th>...</th>\n",
       "      <td>...</td>\n",
       "      <td>...</td>\n",
       "      <td>...</td>\n",
       "      <td>...</td>\n",
       "      <td>...</td>\n",
       "      <td>...</td>\n",
       "      <td>...</td>\n",
       "      <td>...</td>\n",
       "      <td>...</td>\n",
       "      <td>...</td>\n",
       "      <td>...</td>\n",
       "      <td>...</td>\n",
       "      <td>...</td>\n",
       "      <td>...</td>\n",
       "      <td>...</td>\n",
       "      <td>...</td>\n",
       "      <td>...</td>\n",
       "      <td>...</td>\n",
       "      <td>...</td>\n",
       "      <td>...</td>\n",
       "      <td>...</td>\n",
       "    </tr>\n",
       "    <tr>\n",
       "      <th>1098</th>\n",
       "      <td>60973</td>\n",
       "      <td>tt3523348</td>\n",
       "      <td>Destiny</td>\n",
       "      <td>Destiny</td>\n",
       "      <td>2014</td>\n",
       "      <td>105.0</td>\n",
       "      <td>['Drama', 'Music', 'Romance']</td>\n",
       "      <td>7.8</td>\n",
       "      <td>36.0</td>\n",
       "      <td>['nm4154451']</td>\n",
       "      <td>...</td>\n",
       "      <td>-0.999400</td>\n",
       "      <td>-749550</td>\n",
       "      <td>2014</td>\n",
       "      <td>December</td>\n",
       "      <td>1.15</td>\n",
       "      <td>5.175000e+02</td>\n",
       "      <td>0.000000e+00</td>\n",
       "      <td>862500.0</td>\n",
       "      <td>-8.619825e+05</td>\n",
       "      <td>-99.940000</td>\n",
       "    </tr>\n",
       "    <tr>\n",
       "      <th>1097</th>\n",
       "      <td>55110</td>\n",
       "      <td>tt3231362</td>\n",
       "      <td>Destiny</td>\n",
       "      <td>Destiny</td>\n",
       "      <td>2014</td>\n",
       "      <td>NaN</td>\n",
       "      <td>['Adventure', 'Comedy', 'Family']</td>\n",
       "      <td>8.4</td>\n",
       "      <td>25.0</td>\n",
       "      <td>['nm5932375']</td>\n",
       "      <td>...</td>\n",
       "      <td>-0.999400</td>\n",
       "      <td>-749550</td>\n",
       "      <td>2014</td>\n",
       "      <td>December</td>\n",
       "      <td>1.15</td>\n",
       "      <td>5.175000e+02</td>\n",
       "      <td>0.000000e+00</td>\n",
       "      <td>862500.0</td>\n",
       "      <td>-8.619825e+05</td>\n",
       "      <td>-99.940000</td>\n",
       "    </tr>\n",
       "    <tr>\n",
       "      <th>979</th>\n",
       "      <td>41677</td>\n",
       "      <td>tt2503954</td>\n",
       "      <td>Broken Horses</td>\n",
       "      <td>Broken Horses</td>\n",
       "      <td>2015</td>\n",
       "      <td>101.0</td>\n",
       "      <td>['Action', 'Crime', 'Drama']</td>\n",
       "      <td>5.7</td>\n",
       "      <td>1957.0</td>\n",
       "      <td>['nm0006765']</td>\n",
       "      <td>...</td>\n",
       "      <td>-0.999769</td>\n",
       "      <td>-14996529</td>\n",
       "      <td>2015</td>\n",
       "      <td>September</td>\n",
       "      <td>1.15</td>\n",
       "      <td>3.991650e+03</td>\n",
       "      <td>0.000000e+00</td>\n",
       "      <td>17250000.0</td>\n",
       "      <td>-1.724601e+07</td>\n",
       "      <td>-99.976860</td>\n",
       "    </tr>\n",
       "    <tr>\n",
       "      <th>837</th>\n",
       "      <td>29832</td>\n",
       "      <td>tt2141739</td>\n",
       "      <td>Food Chains</td>\n",
       "      <td>Food Chains</td>\n",
       "      <td>2014</td>\n",
       "      <td>83.0</td>\n",
       "      <td>['Documentary']</td>\n",
       "      <td>7.2</td>\n",
       "      <td>328.0</td>\n",
       "      <td>['nm2515753']</td>\n",
       "      <td>...</td>\n",
       "      <td>-0.999807</td>\n",
       "      <td>-912824</td>\n",
       "      <td>2014</td>\n",
       "      <td>November</td>\n",
       "      <td>1.15</td>\n",
       "      <td>2.024000e+02</td>\n",
       "      <td>0.000000e+00</td>\n",
       "      <td>1049950.0</td>\n",
       "      <td>-1.049748e+06</td>\n",
       "      <td>-99.980723</td>\n",
       "    </tr>\n",
       "    <tr>\n",
       "      <th>1294</th>\n",
       "      <td>82320</td>\n",
       "      <td>tt4733536</td>\n",
       "      <td>American Hero</td>\n",
       "      <td>American Hero</td>\n",
       "      <td>2015</td>\n",
       "      <td>86.0</td>\n",
       "      <td>['Action', 'Comedy', 'Drama']</td>\n",
       "      <td>4.9</td>\n",
       "      <td>3661.0</td>\n",
       "      <td>['nm0522393']</td>\n",
       "      <td>...</td>\n",
       "      <td>-0.999974</td>\n",
       "      <td>-999974</td>\n",
       "      <td>2015</td>\n",
       "      <td>December</td>\n",
       "      <td>1.15</td>\n",
       "      <td>2.990000e+01</td>\n",
       "      <td>0.000000e+00</td>\n",
       "      <td>1150000.0</td>\n",
       "      <td>-1.149970e+06</td>\n",
       "      <td>-99.997400</td>\n",
       "    </tr>\n",
       "  </tbody>\n",
       "</table>\n",
       "<p>1422 rows × 41 columns</p>\n",
       "</div>"
      ],
      "text/plain": [
       "      Unnamed: 0_x     tconst          primary_title         original_title  \\\n",
       "910          35625  tt2309260            The Gallows            The Gallows   \n",
       "482           9487  tt1560985       The Devil Inside       The Devil Inside   \n",
       "466           8964  tt1536044  Paranormal Activity 2  Paranormal Activity 2   \n",
       "1318         87039  tt5052448                Get Out                Get Out   \n",
       "1312         85930  tt4975722              Moonlight              Moonlight   \n",
       "...            ...        ...                    ...                    ...   \n",
       "1098         60973  tt3523348                Destiny                Destiny   \n",
       "1097         55110  tt3231362                Destiny                Destiny   \n",
       "979          41677  tt2503954          Broken Horses          Broken Horses   \n",
       "837          29832  tt2141739            Food Chains            Food Chains   \n",
       "1294         82320  tt4733536          American Hero          American Hero   \n",
       "\n",
       "      start_year  runtime_minutes                             genres  \\\n",
       "910         2015             81.0  ['Horror', 'Mystery', 'Thriller']   \n",
       "482         2012             83.0                         ['Horror']   \n",
       "466         2010             91.0                         ['Horror']   \n",
       "1318        2017            104.0  ['Horror', 'Mystery', 'Thriller']   \n",
       "1312        2016            111.0                          ['Drama']   \n",
       "...          ...              ...                                ...   \n",
       "1098        2014            105.0      ['Drama', 'Music', 'Romance']   \n",
       "1097        2014              NaN  ['Adventure', 'Comedy', 'Family']   \n",
       "979         2015            101.0       ['Action', 'Crime', 'Drama']   \n",
       "837         2014             83.0                    ['Documentary']   \n",
       "1294        2015             86.0      ['Action', 'Comedy', 'Drama']   \n",
       "\n",
       "      averagerating  numvotes                   directors  ... ROI_percent  \\\n",
       "910             4.2   17763.0  ['nm4000389', 'nm3951039']  ...  415.564740   \n",
       "482             4.2   33522.0               ['nm0068587']  ...  100.759490   \n",
       "466             5.7   93122.0               ['nm0931095']  ...   58.170677   \n",
       "1318            7.7  400474.0               ['nm1443502']  ...   50.073590   \n",
       "1312            7.4  227964.0               ['nm1503575']  ...   42.497008   \n",
       "...             ...       ...                         ...  ...         ...   \n",
       "1098            7.8      36.0               ['nm4154451']  ...   -0.999400   \n",
       "1097            8.4      25.0               ['nm5932375']  ...   -0.999400   \n",
       "979             5.7    1957.0               ['nm0006765']  ...   -0.999769   \n",
       "837             7.2     328.0               ['nm2515753']  ...   -0.999807   \n",
       "1294            4.9    3661.0               ['nm0522393']  ...   -0.999974   \n",
       "\n",
       "        ROI_usd  year      month inflation worldwide_gross_inf  \\\n",
       "910    41556474  2015       July      1.15        4.790495e+07   \n",
       "482   100759490  2012    January      1.19        1.210938e+08   \n",
       "466   174512032  2010    October      1.25        2.218900e+08   \n",
       "1318  250367951  2017   February      1.11        2.834584e+08   \n",
       "1312   63745512  2016    October      1.14        7.437988e+07   \n",
       "...         ...   ...        ...       ...                 ...   \n",
       "1098    -749550  2014   December      1.15        5.175000e+02   \n",
       "1097    -749550  2014   December      1.15        5.175000e+02   \n",
       "979   -14996529  2015  September      1.15        3.991650e+03   \n",
       "837     -912824  2014   November      1.15        2.024000e+02   \n",
       "1294    -999974  2015   December      1.15        2.990000e+01   \n",
       "\n",
       "     domestic_gross_inf production_budget_inf   ROI_USD_inf      ROI%_inf  \n",
       "910        2.617907e+07              115000.0  4.778995e+07  41556.474000  \n",
       "482        6.338290e+07             1190000.0  1.199038e+08  10075.949000  \n",
       "466        1.059411e+08             3750000.0  2.181400e+08   5817.067733  \n",
       "1318       1.954051e+08             5550000.0  2.779084e+08   5007.359020  \n",
       "1312       3.175462e+07             1710000.0  7.266988e+07   4249.700800  \n",
       "...                 ...                   ...           ...           ...  \n",
       "1098       0.000000e+00              862500.0 -8.619825e+05    -99.940000  \n",
       "1097       0.000000e+00              862500.0 -8.619825e+05    -99.940000  \n",
       "979        0.000000e+00            17250000.0 -1.724601e+07    -99.976860  \n",
       "837        0.000000e+00             1049950.0 -1.049748e+06    -99.980723  \n",
       "1294       0.000000e+00             1150000.0 -1.149970e+06    -99.997400  \n",
       "\n",
       "[1422 rows x 41 columns]"
      ]
     },
     "execution_count": 48,
     "metadata": {},
     "output_type": "execute_result"
    }
   ],
   "source": [
    "imdb_combined.sort_values('ROI%_inf', ascending=False)"
   ]
  },
  {
   "cell_type": "code",
   "execution_count": 49,
   "metadata": {},
   "outputs": [],
   "source": [
    "imdb_sort = imdb_combined.sort_values('ROI%_inf',ascending=True)\n",
    "imdb_sort = imdb_sort[:-2] # remove The Gallows (2015) and The Devil Inside (2012) because they are outliers\n",
    "# only films that have grossed at least $100K worldwide: less than that could just be limited runs\n",
    "imdb_sort = imdb_sort[imdb_sort['worldwide_gross_inf'] >= 100000] "
   ]
  },
  {
   "cell_type": "code",
   "execution_count": 50,
   "metadata": {},
   "outputs": [
    {
     "data": {
      "image/png": "[encoded data removed]",
      "text/plain": [
       "<Figure size 864x576 with 1 Axes>"
      ]
     },
     "metadata": {
      "needs_background": "light"
     },
     "output_type": "display_data"
    }
   ],
   "source": [
    "plt.style.use('seaborn-talk')\n",
    "fig, ax = plt.subplots(figsize=[12,8])\n",
    "\n",
    "ax.hist(imdb_sort['ROI%_inf'], bins=100)\n",
    "ax.set_xlabel('ROI %')\n",
    "ax.set_ylabel('# of Movies');"
   ]
  },
  {
   "cell_type": "code",
   "execution_count": 51,
   "metadata": {},
   "outputs": [],
   "source": [
    "imdb_sort.to_csv('imdb_combined_prof.csv')"
   ]
  }
 ],
 "metadata": {
  "kernelspec": {
   "display_name": "Python (learn-env)",
   "language": "python",
   "name": "learn-env"
  },
  "language_info": {
   "codemirror_mode": {
    "name": "ipython",
    "version": 3
   },
   "file_extension": ".py",
   "mimetype": "text/x-python",
   "name": "python",
   "nbconvert_exporter": "python",
   "pygments_lexer": "ipython3",
   "version": "3.8.5"
  }
 },
 "nbformat": 4,
 "nbformat_minor": 4
}
