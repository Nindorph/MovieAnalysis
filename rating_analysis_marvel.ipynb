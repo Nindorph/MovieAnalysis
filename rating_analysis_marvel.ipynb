{
 "cells": [
  {
   "cell_type": "code",
   "execution_count": 1,
   "metadata": {},
   "outputs": [],
   "source": [
    "import pandas as pd\n",
    "import numpy as np\n",
    "from ast import literal_eval\n",
    "import matplotlib.pyplot as plt\n",
    "import seaborn as sns\n",
    "%matplotlib inline\n",
    "\n",
    "pd.set_option('display.max_columns', None)"
   ]
  },
  {
   "cell_type": "markdown",
   "metadata": {},
   "source": [
    "## Grouping functions\n",
    "\n",
    "Functions defined below are used to create categorical variables."
   ]
  },
  {
   "cell_type": "code",
   "execution_count": 2,
   "metadata": {},
   "outputs": [],
   "source": [
    "# Define various thresholds for bucketing and categorical variables\n",
    "\n",
    "budget_threshold = 0\n",
    "start_year = 2010\n",
    "low_budget_max = 5000000\n",
    "mid_budget_max = 50000000\n",
    "low_review_max = 7\n",
    "low_vote_count = 500\n",
    "year_cutoff = 2016"
   ]
  },
  {
   "cell_type": "code",
   "execution_count": 3,
   "metadata": {},
   "outputs": [],
   "source": [
    "# Define functions used to group data\n",
    "\n",
    "# Function for calculating weighted average of two columns in a dataframe\n",
    "def w_avg(df, value, weight):\n",
    "    v = df[value]\n",
    "    w = df[weight]\n",
    "    \n",
    "    return ((v*w).sum() / (w).sum())\n",
    "\n",
    "# Create a function to define budget tiers\n",
    "def budget_tiers(num):\n",
    "    if num < low_budget_max:\n",
    "        return 'Low Budget'\n",
    "    elif num < mid_budget_max:\n",
    "        return 'Medium Budget'\n",
    "    else:\n",
    "        return 'High Budget'\n",
    "\n",
    "# Function to define what is a high or low review    \n",
    "def review_tiers(num):\n",
    "    if num <= low_review_max:\n",
    "        return 'Low Review'\n",
    "    else:\n",
    "        return 'High Review'\n",
    "    \n",
    "# Define tiers of vote counts\n",
    "def vote_count_tiers(num):\n",
    "    if num <= low_vote_count:\n",
    "        return 'Low Count'\n",
    "    else:\n",
    "        return 'High Count'\n",
    "    \n",
    "# Flag horror / thriller movies\n",
    "def is_horror_thriller(_list):\n",
    "    if 'Horror' in _list:\n",
    "        return True\n",
    "    elif 'Thriller' in _list:\n",
    "        return True\n",
    "    \n",
    "# Group the years into two buckets\n",
    "def group_year(num):\n",
    "    if num <= year_cutoff:\n",
    "        return 'Pre 2017'\n",
    "    else:\n",
    "        return '2017+'"
   ]
  },
  {
   "cell_type": "markdown",
   "metadata": {},
   "source": [
    "## Data Prep\n",
    "\n",
    "- Read in CSV files\n",
    "- Perform final data cleaning\n",
    "- Create categorical variables based on the above functions"
   ]
  },
  {
   "cell_type": "code",
   "execution_count": 4,
   "metadata": {},
   "outputs": [],
   "source": [
    "# plt.style.available\n",
    "plt.style.use('seaborn')"
   ]
  },
  {
   "cell_type": "code",
   "execution_count": 5,
   "metadata": {},
   "outputs": [],
   "source": [
    "# Read in CSV files\n",
    "imdb = pd.read_csv('imdb_combined_prof.csv')\n",
    "tn_df = pd.read_csv('theNumbers_clean.csv')\n",
    "twitter_reviews = pd.read_csv('twitter_reviews_clean.csv')"
   ]
  },
  {
   "cell_type": "code",
   "execution_count": 6,
   "metadata": {},
   "outputs": [],
   "source": [
    "# Rename ROI % in the file\n",
    "\n",
    "imdb.rename(columns={'ROI %': 'ROI_percent'}, inplace=True)"
   ]
  },
  {
   "cell_type": "code",
   "execution_count": 7,
   "metadata": {},
   "outputs": [],
   "source": [
    "# Make sure data if filtered for 2000 and later (should be taken care of in data cleaning section)\n",
    "\n",
    "imdb = imdb[imdb['start_year'] >= start_year]\n",
    "tn_df = tn_df[tn_df['year'] >= start_year]\n",
    "twitter_reviews = twitter_reviews[twitter_reviews['year'] >= start_year]\n",
    "\n",
    "# Drop duplicates in twitter reviews so we can concatenate on name\n",
    "twitter_reviews.drop_duplicates(subset=['name'], inplace=True)\n",
    "\n",
    "# Create concatenated columns for join\n",
    "twitter_reviews['concat'] = twitter_reviews['name'] + twitter_reviews['year'].apply(lambda x: str(x))\n",
    "\n",
    "# Merge datasets\n",
    "twitter_prof = twitter_reviews.merge(tn_df, how='inner', left_on='name', right_on='movie')\n",
    "imdb_total = imdb.merge(twitter_reviews, how='inner', on='concat')\n",
    "\n",
    "# Filter for movies with above the specified production budget\n",
    "imdb_total_f = imdb_total[imdb_total['production_budget_inf'] >= budget_threshold]\n",
    "twitter_prof_f = twitter_prof[twitter_prof['production_budget_inf'] >= budget_threshold]\n",
    "\n",
    "# Rename twitter rating columns\n",
    "imdb_total_f.rename(columns={'avg_rating': 'twitter_avg_rating', 'rating_count': 'twitter_rating_count'}, inplace=True)"
   ]
  },
  {
   "cell_type": "code",
   "execution_count": 8,
   "metadata": {},
   "outputs": [],
   "source": [
    "# Create categorical variables\n",
    "\n",
    "# Create a new column with budget tiers as categorical\n",
    "imdb_total_f['budget_tier'] = imdb_total_f['production_budget_inf'].apply(budget_tiers)\n",
    "twitter_prof_f['budget_tier'] = twitter_prof_f['production_budget_inf'].apply(budget_tiers)\n",
    "\n",
    "# Create a new column with review tiers as categorical\n",
    "imdb_total_f['review_tier_IMDB'] = imdb_total_f['averagerating'].apply(review_tiers)\n",
    "imdb_total_f['review_tier_twitter'] = imdb_total_f['twitter_avg_rating'].apply(review_tiers)\n",
    "\n",
    "# Create categorical variables for vote count tiers\n",
    "imdb_total_f['count_tier_IMDB'] = imdb_total_f['numvotes'].apply(vote_count_tiers)\n",
    "imdb_total_f['count_tier_twitter'] = imdb_total_f['twitter_rating_count'].apply(vote_count_tiers)\n",
    "\n",
    "# Create column for year categoricals\n",
    "imdb_total_f['year_count'] = imdb_total_f['start_year'].apply(group_year)"
   ]
  },
  {
   "cell_type": "code",
   "execution_count": 9,
   "metadata": {},
   "outputs": [],
   "source": [
    "# Scale ROI so that it can be described as %\n",
    "\n",
    "imdb_total_f['ROI_percent'] = imdb_total_f['ROI_percent'] * 100\n",
    "\n",
    "# Remove random duplicate columns that were created\n",
    "imdb_total_f.drop(columns=['Unnamed: 0_x'], axis=1, inplace=True)\n",
    "imdb_total_f.drop(columns=['Unnamed: 0_y'], axis=1, inplace=True)"
   ]
  },
  {
   "cell_type": "code",
   "execution_count": 10,
   "metadata": {},
   "outputs": [],
   "source": [
    "# Clean up one NA nad convert genres to list type\n",
    "\n",
    "imdb_total_f.dropna(subset=['genres'], inplace=True)\n",
    "imdb_total_f.loc[:,'genres'] = imdb_total_f.loc[:,'genres'].apply(literal_eval)"
   ]
  },
  {
   "cell_type": "markdown",
   "metadata": {},
   "source": [
    "## ROI vs. Average Review\n",
    "\n",
    "Summary: the hypothesis was that the higher rated movies would do better at the box office.\n",
    "\n",
    "Analysis: Movings were grouped by rating. Any movie that received an 8 or higher was considered a \"good\" review. This may seem high, but the average review for the population was over 7. I also looked at the horror / thriller only population to see if the effect was visible there.\n",
    "\n",
    "Result: there does seem to be a meaningful relationship between good reviews and sales. These movies do much better than the population average. The effect is even more pronounced for horror / thriller movies."
   ]
  },
  {
   "cell_type": "code",
   "execution_count": 11,
   "metadata": {},
   "outputs": [],
   "source": [
    "# Find the total population average\n",
    "\n",
    "wavg = ((imdb_total_f['worldwide_gross_inf'].sum() - imdb_total_f['production_budget_inf'].sum()) /\n",
    "        imdb_total_f['production_budget_inf'].sum())"
   ]
  },
  {
   "cell_type": "code",
   "execution_count": 12,
   "metadata": {},
   "outputs": [],
   "source": [
    "# Group data by IMDB review tier: Good or bad\n",
    "\n",
    "IMDB_tier = pd.DataFrame(imdb_total_f.groupby('review_tier_IMDB').sum())\n",
    "IMDB_tier['ROI_new'] = (IMDB_tier['worldwide_gross_inf'] - IMDB_tier['production_budget_inf']) / IMDB_tier['production_budget_inf']"
   ]
  },
  {
   "cell_type": "code",
   "execution_count": 13,
   "metadata": {},
   "outputs": [],
   "source": [
    "# Filter out only horror and thriller movies\n",
    "\n",
    "imdb_total_f['horror_thriller'] = imdb_total_f['genres'].apply(is_horror_thriller)\n",
    "imdb_horror = imdb_total_f[imdb_total_f['horror_thriller'] == True]\n",
    "\n",
    "horror_review_tier = pd.DataFrame(imdb_horror.groupby('review_tier_IMDB').sum())\n",
    "\n",
    "horror_review_tier['ROI_new'] = ((horror_review_tier['worldwide_gross_inf'] - horror_review_tier['production_budget_inf']) \n",
    "                                / horror_review_tier['production_budget_inf'])"
   ]
  },
  {
   "cell_type": "code",
   "execution_count": 14,
   "metadata": {},
   "outputs": [],
   "source": [
    "# Combine total and horror review datasets\n",
    "\n",
    "total_review_tier = IMDB_tier.merge(horror_review_tier, how='inner', left_index=True, right_index=True)\n",
    "total_review_tier = total_review_tier.loc[:,['ROI_new_x', 'ROI_new_y']]\n",
    "total_review_tier = total_review_tier.rename(columns={'ROI_new_x': 'ROI_Total', 'ROI_new_y': 'ROI_Horror'})"
   ]
  },
  {
   "cell_type": "code",
   "execution_count": 15,
   "metadata": {
    "scrolled": true
   },
   "outputs": [
    {
     "data": {
      "image/png": "[encoded data removed]",
      "text/plain": [
       "<Figure size 432x288 with 1 Axes>"
      ]
     },
     "metadata": {},
     "output_type": "display_data"
    }
   ],
   "source": [
    "# Calculate combined reviews\n",
    "\n",
    "fig, ax = plt.subplots(figsize=(6,4))\n",
    "\n",
    "labels = ['Total Reviews', 'Horror / Thriller Only']\n",
    "x = np.arange(len(labels))\n",
    "width = 0.25\n",
    "\n",
    "bars1 = total_review_tier.iloc[0,:]\n",
    "bars2 = total_review_tier.iloc[1,:]\n",
    "\n",
    "ax.bar(x - width/2, bars1, width, label='Good Reviews')\n",
    "ax.bar(x + width/2, bars2, width, label='Poor Reviews')\n",
    "\n",
    "ax.set_ylabel('ROI %', fontsize=12)\n",
    "# ax.set_title('ROI by Review Category', fontsize=12)\n",
    "ax.set_xticks(x)\n",
    "ax.set_xticklabels(labels, fontsize=12)\n",
    "ax.legend(fontsize=12)\n",
    "ax.grid(False)\n",
    "\n",
    "plt.axhline(y=wavg,linewidth=1, color='red', linestyle='--')\n",
    "\n",
    "plt.savefig('./images/Review_vs_ROI.png')\n",
    "\n",
    "plt.tight_layout();"
   ]
  },
  {
   "cell_type": "code",
   "execution_count": 26,
   "metadata": {},
   "outputs": [
    {
     "name": "stdout",
     "output_type": "stream",
     "text": [
      "0.6835709756339264 1.013906874358294\n"
     ]
    }
   ],
   "source": [
    "pickup_total = (total_review_tier.iloc[0,0] - total_review_tier.iloc[1,0]) / total_review_tier.iloc[1,0]\n",
    "pickup_horror = (total_review_tier.iloc[0,1] - total_review_tier.iloc[1,1]) / total_review_tier.iloc[1,1]\n",
    "\n",
    "print(pickup_total, pickup_horror)"
   ]
  },
  {
   "cell_type": "markdown",
   "metadata": {},
   "source": [
    "## ROI vs. Number of Twitter Reviews\n",
    "\n",
    "Summary: the hypothesis is that number of reviews on Twitter, as a proxy for total social media engagement, would drive higher movie ROI\n",
    "Analysis: The original dataset was grouped by year and vote count categoricals. I.e., before 2017 vs. after 2017 and high number of reviews vs. low number of reviews. The average ROI for these populations was recalculated.\n",
    "Result: while there was a decent result for the overall population, what really stood out is that post 2017, twitter engagement really seems to matter - driving a 100%+ increase in ROI vs. movies that did not have high engagement."
   ]
  },
  {
   "cell_type": "code",
   "execution_count": 16,
   "metadata": {},
   "outputs": [],
   "source": [
    "twitter_review_count = imdb_total_f.groupby(['year_count', 'count_tier_twitter']).sum()\n",
    "\n",
    "twitter_review_count['ROI_new'] = ((twitter_review_count['worldwide_gross_inf'] - twitter_review_count['production_budget_inf']) \n",
    "                                / twitter_review_count['production_budget_inf'])\n",
    "\n",
    "twitter_review_count = twitter_review_count['ROI_new']"
   ]
  },
  {
   "cell_type": "code",
   "execution_count": 22,
   "metadata": {},
   "outputs": [
    {
     "name": "stdout",
     "output_type": "stream",
     "text": [
      "1.150295946707588 0.5591560448839704\n"
     ]
    }
   ],
   "source": [
    "pickup_17_after = (twitter_review_count.iloc[0] - twitter_review_count.iloc[1]) / twitter_review_count.iloc[1]\n",
    "pickup_17_before = (twitter_review_count.iloc[2] - twitter_review_count.iloc[3]) / twitter_review_count.iloc[3]\n",
    "\n",
    "print(pickup_17_after, pickup_17_before)"
   ]
  },
  {
   "cell_type": "code",
   "execution_count": 17,
   "metadata": {
    "scrolled": true
   },
   "outputs": [
    {
     "data": {
      "image/png": "[encoded data removed]",
      "text/plain": [
       "<Figure size 432x288 with 1 Axes>"
      ]
     },
     "metadata": {},
     "output_type": "display_data"
    }
   ],
   "source": [
    "# Calculate combined review count tiers\n",
    "\n",
    "fig, ax2 = plt.subplots(figsize=(6,4))\n",
    "\n",
    "labels = ['2017+', 'Pre 2017']\n",
    "x = np.arange(len(labels))\n",
    "width = 0.25\n",
    "\n",
    "bars1 = [twitter_review_count.iloc[0], twitter_review_count.iloc[2]]\n",
    "bars2 = [twitter_review_count.iloc[1], twitter_review_count.iloc[3]]\n",
    "\n",
    "ax2.bar(x - width/2, bars1, width, label='High Twitter Engagement')\n",
    "ax2.bar(x + width/2, bars2, width, label='Low Twitter Engagement')\n",
    "\n",
    "ax2.set_ylabel('ROI %', fontsize=12)\n",
    "# ax2.set_title('ROI by Review Category', fontsize=12)\n",
    "ax2.set_xticks(x)\n",
    "ax2.set_xticklabels(labels, fontsize=12)\n",
    "ax2.legend(fontsize=12)\n",
    "ax2.grid(False)\n",
    "\n",
    "plt.axhline(y=wavg,linewidth=1, color='red', linestyle='--')\n",
    "\n",
    "plt.savefig('./images/twitter_engagement.png')\n",
    "\n",
    "plt.tight_layout();"
   ]
  },
  {
   "cell_type": "markdown",
   "metadata": {},
   "source": [
    "## Not in use"
   ]
  },
  {
   "cell_type": "code",
   "execution_count": 18,
   "metadata": {
    "scrolled": true
   },
   "outputs": [
    {
     "ename": "NameError",
     "evalue": "name 'review_tiers_combined' is not defined",
     "output_type": "error",
     "traceback": [
      "\u001b[0;31m---------------------------------------------------------------------------\u001b[0m",
      "\u001b[0;31mNameError\u001b[0m                                 Traceback (most recent call last)",
      "\u001b[0;32m<ipython-input-18-8e062a80ae59>\u001b[0m in \u001b[0;36m<module>\u001b[0;34m\u001b[0m\n\u001b[1;32m      7\u001b[0m \u001b[0mwidth\u001b[0m \u001b[0;34m=\u001b[0m \u001b[0;36m0.25\u001b[0m\u001b[0;34m\u001b[0m\u001b[0;34m\u001b[0m\u001b[0m\n\u001b[1;32m      8\u001b[0m \u001b[0;34m\u001b[0m\u001b[0m\n\u001b[0;32m----> 9\u001b[0;31m \u001b[0mbars1\u001b[0m \u001b[0;34m=\u001b[0m \u001b[0mreview_tiers_combined\u001b[0m\u001b[0;34m.\u001b[0m\u001b[0miloc\u001b[0m\u001b[0;34m[\u001b[0m\u001b[0;36m0\u001b[0m\u001b[0;34m,\u001b[0m\u001b[0;34m:\u001b[0m\u001b[0;34m]\u001b[0m\u001b[0;34m\u001b[0m\u001b[0;34m\u001b[0m\u001b[0m\n\u001b[0m\u001b[1;32m     10\u001b[0m \u001b[0mbars2\u001b[0m \u001b[0;34m=\u001b[0m \u001b[0mreview_tiers_combined\u001b[0m\u001b[0;34m.\u001b[0m\u001b[0miloc\u001b[0m\u001b[0;34m[\u001b[0m\u001b[0;36m1\u001b[0m\u001b[0;34m,\u001b[0m\u001b[0;34m:\u001b[0m\u001b[0;34m]\u001b[0m\u001b[0;34m\u001b[0m\u001b[0;34m\u001b[0m\u001b[0m\n\u001b[1;32m     11\u001b[0m \u001b[0;34m\u001b[0m\u001b[0m\n",
      "\u001b[0;31mNameError\u001b[0m: name 'review_tiers_combined' is not defined"
     ]
    },
    {
     "data": {
      "image/png": "[encoded data removed]",
      "text/plain": [
       "<Figure size 432x288 with 1 Axes>"
      ]
     },
     "metadata": {},
     "output_type": "display_data"
    }
   ],
   "source": [
    "# Calculate combined reviews\n",
    "\n",
    "fig, ax = plt.subplots(figsize=(6,4))\n",
    "\n",
    "labels = ['IMDB Reviews', 'Twitter Reviews']\n",
    "x = np.arange(len(labels))\n",
    "width = 0.25\n",
    "\n",
    "bars1 = review_tiers_combined.iloc[0,:]\n",
    "bars2 = review_tiers_combined.iloc[1,:]\n",
    "\n",
    "ax.bar(x - width/2, bars1, width, label='Good Reviews')\n",
    "ax.bar(x + width/2, bars2, width, label='Poor Reviews')\n",
    "\n",
    "ax.set_ylabel('ROI %')\n",
    "ax.set_title('ROI by Review Category')\n",
    "ax.set_xticks(x)\n",
    "ax.set_xticklabels(labels)\n",
    "ax.legend()\n",
    "ax.grid(False)\n",
    "\n",
    "plt.tight_layout();\n",
    "\n",
    "plt.savefig('./images/twitter_IMDB_reviews.png')"
   ]
  },
  {
   "cell_type": "code",
   "execution_count": null,
   "metadata": {},
   "outputs": [],
   "source": [
    "# Does total review count matter by era (pre 2017 vs. post 2017)\n",
    "\n",
    "year_group = imdb_total_f.groupby(['year_count', 'count_tier_twitter']).ROI_percent.mean()"
   ]
  },
  {
   "cell_type": "code",
   "execution_count": null,
   "metadata": {},
   "outputs": [],
   "source": [
    "type(year_group)"
   ]
  },
  {
   "cell_type": "code",
   "execution_count": null,
   "metadata": {
    "scrolled": true
   },
   "outputs": [],
   "source": [
    "# Calculate combined reviews\n",
    "\n",
    "fig, ax3 = plt.subplots(figsize=(6,4))\n",
    "\n",
    "labels = ['2017+', 'Pre-2017']\n",
    "x = np.arange(len(labels))\n",
    "width = 0.25\n",
    "\n",
    "bars1 = [year_group.iloc[0], year_group.iloc[2]]\n",
    "bars2 = [year_group.iloc[1], year_group.iloc[3]]\n",
    "\n",
    "ax3.bar(x - width/2, bars1, width, label='High Review Count')\n",
    "ax3.bar(x + width/2, bars2, width, label='Low Review Count')\n",
    "\n",
    "ax3.set_ylabel('ROI %')\n",
    "ax3.set_title('ROI by Twitter Review Count')\n",
    "ax3.set_xticks(x)\n",
    "ax3.set_xticklabels(labels)\n",
    "ax3.legend()\n",
    "ax3.grid(False)\n",
    "\n",
    "plt.tight_layout();\n",
    "plt.savefig('./images/twitter_review_count.png')"
   ]
  },
  {
   "cell_type": "code",
   "execution_count": null,
   "metadata": {},
   "outputs": [],
   "source": [
    "year_group"
   ]
  },
  {
   "cell_type": "code",
   "execution_count": null,
   "metadata": {},
   "outputs": [],
   "source": [
    "# Use this if you want to revert back to the old version\n",
    "\n",
    "# Group by review tier (good / bad) and then aggregate ROI percent\n",
    "\n",
    "ROI_review_twitter = pd.DataFrame(imdb_total_f.groupby('review_tier_twitter').ROI_percent.mean())\n",
    "ROI_review_IMDB = pd.DataFrame(imdb_total_f.groupby('review_tier_IMDB').ROI_percent.mean())\n",
    "\n",
    "review_tiers_combined = ROI_review_IMDB.merge(ROI_review_twitter, how='left', left_index=True, right_index=True,\n",
    "                     suffixes=('_IMDB', '_twitter'))"
   ]
  },
  {
   "cell_type": "code",
   "execution_count": null,
   "metadata": {},
   "outputs": [],
   "source": [
    "# Quick summary stats for the movies\n",
    "\n",
    "imdb_avg_review = w_avg(imdb_total_f, 'averagerating', 'numvotes')\n",
    "imdb_median_review = imdb_total_f['averagerating'].median()\n",
    "\n",
    "twitter_avg_review = w_avg(imdb_total_f, 'twitter_avg_rating', 'twitter_rating_count')\n",
    "twitter_median_review = imdb_total_f['twitter_avg_rating'].median()"
   ]
  },
  {
   "cell_type": "code",
   "execution_count": null,
   "metadata": {},
   "outputs": [],
   "source": [
    "# Filter out only horror and thriller movies\n",
    "\n",
    "imdb_total_f['horror_thriller'] = imdb_total_f['genres'].apply(is_horror_thriller)\n",
    "imdb_horror = imdb_total_f[imdb_total_f['horror_thriller'] == True]"
   ]
  },
  {
   "cell_type": "code",
   "execution_count": null,
   "metadata": {},
   "outputs": [],
   "source": [
    "ROI_rev_count_horror = imdb_horror.groupby('count_tier_twitter').ROI_percent.mean()"
   ]
  },
  {
   "cell_type": "code",
   "execution_count": null,
   "metadata": {},
   "outputs": [],
   "source": [
    "# Plot horror movies, high vs. low engagement\n",
    "\n",
    "fig, ax8 = plt.subplots()\n",
    "\n",
    "x = ROI_rev_count_horror.index\n",
    "y = ROI_rev_count_horror.values\n",
    "ax8.bar(x, y)\n",
    "\n",
    "ax8.set_title('ROI by Total Review Tier')\n",
    "ax8.set_xlabel('Review Count Tier')\n",
    "ax8.set_ylabel('ROI %');"
   ]
  },
  {
   "cell_type": "code",
   "execution_count": null,
   "metadata": {},
   "outputs": [],
   "source": [
    "# Does high vs. low vote count imply a different ROI %\n",
    "\n",
    "ROI_rev_count_twitter = imdb_total_f.groupby('count_tier_twitter').ROI_percent.mean()"
   ]
  },
  {
   "cell_type": "code",
   "execution_count": null,
   "metadata": {},
   "outputs": [],
   "source": [
    "fig, ax2 = plt.subplots()\n",
    "\n",
    "x = ROI_rev_count_twitter.index\n",
    "y = ROI_rev_count_twitter.values\n",
    "ax2.bar(x, y)\n",
    "\n",
    "ax2.set_title('ROI by Total Review Tier')\n",
    "ax2.set_xlabel('Review Count Tier')\n",
    "ax2.set_ylabel('ROI %');"
   ]
  },
  {
   "cell_type": "code",
   "execution_count": null,
   "metadata": {},
   "outputs": [],
   "source": [
    "# Test scatter of horror / thriller twitter review count vs. ROI\n",
    "\n",
    "fig, ax7 = plt.subplots()\n",
    "\n",
    "x = imdb_horror['twitter_rating_count']\n",
    "y = imdb_horror['ROI_percent']\n",
    "\n",
    "ax7.scatter(x, y)\n",
    "\n",
    "ax7.set_ylim([-100, 1000])\n",
    "\n",
    "plt.tight_layout();"
   ]
  },
  {
   "cell_type": "code",
   "execution_count": null,
   "metadata": {},
   "outputs": [],
   "source": [
    "# Filter for high budget movies\n",
    "\n",
    "test = imdb_horror[imdb_horror['production_budget_inf'] >= 10000000]"
   ]
  },
  {
   "cell_type": "code",
   "execution_count": null,
   "metadata": {},
   "outputs": [],
   "source": [
    "x = test['twitter_rating_count']\n",
    "y = test['ROI_percent']"
   ]
  },
  {
   "cell_type": "code",
   "execution_count": null,
   "metadata": {},
   "outputs": [],
   "source": [
    "high_budget = imdb_total_f[imdb_total_f['production_budget_inf'] >= 100000000]\n",
    "low_budget = imdb_total_f[imdb_total_f['production_budget_inf'] < 10000000] #& (imdb_total_f['ROI_percent'] < 800)]"
   ]
  },
  {
   "cell_type": "code",
   "execution_count": null,
   "metadata": {},
   "outputs": [],
   "source": [
    "corr1 = np.corrcoef(high_budget['twitter_rating_count'], high_budget['ROI_percent'])\n",
    "corr2 = np.corrcoef(low_budget['twitter_rating_count'], low_budget['ROI_percent'])"
   ]
  },
  {
   "cell_type": "code",
   "execution_count": null,
   "metadata": {},
   "outputs": [],
   "source": [
    "print(corr1[1], corr2[1])"
   ]
  },
  {
   "cell_type": "code",
   "execution_count": null,
   "metadata": {
    "scrolled": true
   },
   "outputs": [],
   "source": [
    "ax = sns.regplot(x=high_budget['twitter_rating_count'],y=high_budget['ROI_percent'], fit_reg=True)\n",
    "\n",
    "ax.set(xlabel='Rating Count', ylabel='ROI %');"
   ]
  },
  {
   "cell_type": "code",
   "execution_count": null,
   "metadata": {},
   "outputs": [],
   "source": [
    "ax = sns.regplot(x=low_budget['twitter_rating_count'],y=low_budget['ROI_percent'], fit_reg=True)\n",
    "\n",
    "# plt.ylim(-100,800)\n",
    "\n",
    "ax.set(xlabel='Rating Count', ylabel='ROI %');\n",
    "# ax.set_ylim(-100,800)"
   ]
  },
  {
   "cell_type": "code",
   "execution_count": null,
   "metadata": {},
   "outputs": [],
   "source": [
    "# Is there a relationship between number of reviews and ROI %\n",
    "\n",
    "fig, ax6 = plt.subplots(ncols=2)\n",
    "\n",
    "y = imdb_total_f['ROI_percent']\n",
    "\n",
    "ax6[0].scatter(imdb_total_f['numvotes'], y)\n",
    "ax6[1].scatter(imdb_total_f['twitter_rating_count'], y)\n",
    "\n",
    "ax6[0].set_ylim([-100, 1000])\n",
    "ax6[1].set_ylim([-100, 1000])\n",
    "\n",
    "plt.tight_layout()"
   ]
  },
  {
   "cell_type": "code",
   "execution_count": null,
   "metadata": {},
   "outputs": [],
   "source": [
    "# Review count summary stats\n",
    "\n",
    "max_reviews = twitter_prof_f['rating_count'].max()\n",
    "min_reviews = twitter_prof_f['rating_count'].min()\n",
    "avg_num_reviews = twitter_prof_f['rating_count'].min()"
   ]
  },
  {
   "cell_type": "code",
   "execution_count": null,
   "metadata": {},
   "outputs": [],
   "source": [
    "# Review summary stats\n",
    "\n",
    "avg_review = w_avg(twitter_prof_f, 'avg_rating', 'rating_count')\n",
    "median_review = twitter_prof_f['avg_rating'].median()"
   ]
  },
  {
   "cell_type": "code",
   "execution_count": null,
   "metadata": {
    "scrolled": true
   },
   "outputs": [],
   "source": [
    "# ax = sns.regplot(x=twitter_prof_f['avg_rating'],y=twitter_prof_f['ROI_percent'], fit_reg=True)\n",
    "\n",
    "# ax.set(xlabel='Avg Rating', ylabel='ROI %');"
   ]
  },
  {
   "cell_type": "code",
   "execution_count": null,
   "metadata": {
    "scrolled": true
   },
   "outputs": [],
   "source": [
    "# Scatter plot of IMDB vs. Twitter reviews\n",
    "# Commentary: twitter reviews and IMDB reviews appear to be very closely correlated.\n",
    "\n",
    "fig, ax1 = plt.subplots()\n",
    "\n",
    "ax1.scatter(imdb_total_f['twitter_avg_rating'], imdb_total_f['averagerating'], alpha = 0.5)\n",
    "ax1.set_xlabel('Twitter Avg Rating')\n",
    "ax1.set_ylabel('IMDB Avg Rating')\n",
    "ax1.set_title('Twitter vs. IMDB Ratings');"
   ]
  },
  {
   "cell_type": "code",
   "execution_count": null,
   "metadata": {},
   "outputs": [],
   "source": [
    "# Relationship between reviews and movie success: scatter plot\n",
    "fig, (ax2, ax3) = plt.subplots(ncols=2, figsize=(10,4))\n",
    "\n",
    "x1 = imdb_total_f['twitter_avg_rating']\n",
    "x2 = imdb_total_f['averagerating']\n",
    "y = imdb_total_f['ROI_percent']\n",
    "\n",
    "ax2.scatter(x1, y, alpha=0.5)\n",
    "ax3.scatter(x2, y, alpha=0.5)\n",
    "\n",
    "ax2.set_title('Twitter ratings vs. ROI')\n",
    "ax2.set_xlabel('Twitter Avg Rating')\n",
    "ax2.set_ylabel('ROI %')\n",
    "ax2.set_ylim([-100, 1000])\n",
    "\n",
    "ax3.set_title('IMDB ratings vs. ROI')\n",
    "ax3.set_xlabel('IMDB Avg Rating')\n",
    "ax3.set_ylabel('ROI %')\n",
    "ax3.set_ylim([-100, 1000])\n",
    "\n",
    "plt.tight_layout();"
   ]
  },
  {
   "cell_type": "code",
   "execution_count": null,
   "metadata": {},
   "outputs": [],
   "source": [
    "# Relationship between reviews and movie success by budget tier: scatter plot\n",
    "\n",
    "fig, ax4 = plt.subplots(ncols=3, nrows=2, figsize=(12,6))\n",
    "\n",
    "custom_ylim = (-100, 1000)\n",
    "custom_xlim = (0, 10)\n",
    "\n",
    "# Setting the values for all axes.\n",
    "plt.setp(ax4, ylim=custom_ylim)\n",
    "\n",
    "xHighReview1 = imdb_total_f[imdb_total_f['review_tier_IMDB'] == 'High Review'].loc[:,'averagerating']\n",
    "xMedReview1 = imdb_total_f[imdb_total_f['review_tier_IMDB'] == 'Medium Review'].loc[:,'averagerating']\n",
    "xLowReview1 = imdb_total_f[imdb_total_f['review_tier_IMDB'] == 'Low Review'].loc[:,'averagerating']\n",
    "\n",
    "xHighReview2 = imdb_total_f[imdb_total_f['review_tier_twitter'] == 'High Review'].loc[:,'twitter_avg_rating']\n",
    "xMedReview2 = imdb_total_f[imdb_total_f['review_tier_twitter'] == 'Medium Review'].loc[:,'twitter_avg_rating']\n",
    "xLowReview2 = imdb_total_f[imdb_total_f['review_tier_twitter'] == 'Low Review'].loc[:,'twitter_avg_rating']\n",
    "\n",
    "yHigh1 = imdb_total_f[imdb_total_f['review_tier_IMDB'] == 'High Review'].loc[:,'ROI_percent']\n",
    "yMed1 = imdb_total_f[imdb_total_f['review_tier_IMDB'] == 'Medium Review'].loc[:,'ROI_percent']\n",
    "yLow1 = imdb_total_f[imdb_total_f['review_tier_IMDB'] == 'Low Review'].loc[:,'ROI_percent']\n",
    "\n",
    "yHigh2 = imdb_total_f[imdb_total_f['review_tier_twitter'] == 'High Review'].loc[:,'ROI_percent']\n",
    "yMed2 = imdb_total_f[imdb_total_f['review_tier_twitter'] == 'Medium Review'].loc[:,'ROI_percent']\n",
    "yLow2 = imdb_total_f[imdb_total_f['review_tier_twitter'] == 'Low Review'].loc[:,'ROI_percent']\n",
    "\n",
    "ax4[0,0].scatter(xHighReview1,yHigh1,alpha=0.5)\n",
    "ax4[0,1].scatter(xMedReview1,yMed1,alpha=0.5)\n",
    "ax4[0,2].scatter(xLowReview1,yLow1,alpha=0.5)\n",
    "\n",
    "ax4[1,0].scatter(xHighReview2,yHigh2,alpha=0.5)\n",
    "ax4[1,1].scatter(xMedReview2,yMed2,alpha=0.5)\n",
    "ax4[1,2].scatter(xLowReview2,yLow2,alpha=0.5)\n",
    "\n",
    "plt.tight_layout();"
   ]
  },
  {
   "cell_type": "code",
   "execution_count": null,
   "metadata": {},
   "outputs": [],
   "source": [
    "# Explode out genre so you can explore Horror, specifically\n",
    "# imdb_total_f.dropna(subset=['genres'], inplace=True)\n",
    "\n",
    "# imdb_total_f.loc[:,'genres'] = imdb_total_f.loc[:,'genres'].apply(literal_eval)\n",
    "# imdb_explode = imdb_total_f.explode('genres')\n",
    "\n",
    "# # Filter only for horror movies\n",
    "# imdb_horror = imdb_explode[(imdb_explode['genres'] == 'Horror') | (imdb_explode['genres'] == 'Thriller')]"
   ]
  },
  {
   "cell_type": "code",
   "execution_count": null,
   "metadata": {},
   "outputs": [],
   "source": [
    "# Quick summary stats for the movies\n",
    "\n",
    "imdb_avg_review = w_avg(imdb_total_f, 'averagerating', 'numvotes')\n",
    "imdb_median_review = imdb_total_f['averagerating'].median()\n",
    "\n",
    "twitter_avg_review = w_avg(imdb_total_f, 'twitter_avg_rating', 'twitter_rating_count')\n",
    "twitter_median_review = imdb_total_f['twitter_avg_rating'].median()"
   ]
  }
 ],
 "metadata": {
  "kernelspec": {
   "display_name": "Python (learn-env)",
   "language": "python",
   "name": "learn-env"
  },
  "language_info": {
   "codemirror_mode": {
    "name": "ipython",
    "version": 3
   },
   "file_extension": ".py",
   "mimetype": "text/x-python",
   "name": "python",
   "nbconvert_exporter": "python",
   "pygments_lexer": "ipython3",
   "version": "3.8.5"
  }
 },
 "nbformat": 4,
 "nbformat_minor": 4
}
