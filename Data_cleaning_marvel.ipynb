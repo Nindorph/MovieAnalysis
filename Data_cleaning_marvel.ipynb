{
 "cells": [
  {
   "cell_type": "markdown",
   "metadata": {},
   "source": [
    "## Data cleaning"
   ]
  },
  {
   "cell_type": "code",
   "execution_count": 1,
   "metadata": {},
   "outputs": [],
   "source": [
    "import pandas as pd\n",
    "import numpy as np\n",
    "import matplotlib.pyplot as plt\n",
    "import seaborn as sns\n",
    "%matplotlib inline"
   ]
  },
  {
   "cell_type": "code",
   "execution_count": 2,
   "metadata": {},
   "outputs": [],
   "source": [
    "# plt.style.available\n",
    "plt.style.use('seaborn-darkgrid')"
   ]
  },
  {
   "cell_type": "code",
   "execution_count": 3,
   "metadata": {},
   "outputs": [],
   "source": [
    "# Reading in compressed csv\n",
    "\n",
    "movie_gross = pd.read_csv('./zippedData/bom.movie_gross.csv.gz')\n",
    "tn_budgets = pd.read_csv('./zippedData/tn.movie_budgets.csv.gz')"
   ]
  },
  {
   "cell_type": "code",
   "execution_count": 4,
   "metadata": {},
   "outputs": [],
   "source": [
    "# Global variables\n",
    "\n",
    "first_year = 2010\n",
    "review_count_threshold = 50"
   ]
  },
  {
   "cell_type": "code",
   "execution_count": 46,
   "metadata": {
    "scrolled": true
   },
   "outputs": [
    {
     "name": "stderr",
     "output_type": "stream",
     "text": [
      "<ipython-input-46-4538fe068736>:3: ParserWarning: Falling back to the 'python' engine because the 'c' engine does not support regex separators (separators > 1 char and different from '\\s+' are interpreted as regex); you can avoid this warning by specifying engine='python'.\n",
      "  dataworld_movies = pd.read_csv('movies.dat', sep='::', names=['movie_id', 'name/year', 'genre'])\n",
      "<ipython-input-46-4538fe068736>:4: ParserWarning: Falling back to the 'python' engine because the 'c' engine does not support regex separators (separators > 1 char and different from '\\s+' are interpreted as regex); you can avoid this warning by specifying engine='python'.\n",
      "  dataworld_reviews = pd.read_csv('ratings.dat', sep='::', names=['user_id', 'movie_id', 'rating', 'rating_timestamp'])\n"
     ]
    }
   ],
   "source": [
    "# Reading in .dat files\n",
    "\n",
    "dataworld_movies = pd.read_csv('movies.dat', sep='::', names=['movie_id', 'name/year', 'genre'])\n",
    "dataworld_reviews = pd.read_csv('ratings.dat', sep='::', names=['user_id', 'movie_id', 'rating', 'rating_timestamp'])"
   ]
  },
  {
   "cell_type": "markdown",
   "metadata": {},
   "source": [
    "## Movie gross\n",
    "\n",
    "### Sales null values:\n",
    "- Summary: there are ~1.2k null values in foreign_gross and ~15 in domestic_gross \n",
    "- Approach: replace null values with 0\n",
    "- Rationale: my assumption is that null values mean that the film had no foreign box office sales, for example. Therefore, replacing these values with 0 is an accurate representation. Also, we want to be able to sum across and perform other operations, which null values my hinder.\n",
    "\n",
    "### Studio null values:\n",
    "- I decided to delete these rows. There are only 5. They are either very small revenue domestic films or foreign-only films, which is out of scope for this project. (it would be great for a film to have foreign income, but I'm assuming producing foreign-only films is out of scope for Microsoft)."
   ]
  },
  {
   "cell_type": "code",
   "execution_count": 6,
   "metadata": {},
   "outputs": [
    {
     "name": "stdout",
     "output_type": "stream",
     "text": [
      "<class 'pandas.core.frame.DataFrame'>\n",
      "RangeIndex: 3387 entries, 0 to 3386\n",
      "Data columns (total 5 columns):\n",
      " #   Column          Non-Null Count  Dtype  \n",
      "---  ------          --------------  -----  \n",
      " 0   title           3387 non-null   object \n",
      " 1   studio          3382 non-null   object \n",
      " 2   domestic_gross  3359 non-null   float64\n",
      " 3   foreign_gross   2037 non-null   object \n",
      " 4   year            3387 non-null   int64  \n",
      "dtypes: float64(1), int64(1), object(3)\n",
      "memory usage: 132.4+ KB\n"
     ]
    }
   ],
   "source": [
    "movie_gross.info()"
   ]
  },
  {
   "cell_type": "code",
   "execution_count": 7,
   "metadata": {},
   "outputs": [],
   "source": [
    "studio_na = movie_gross[movie_gross['studio'].isna()]"
   ]
  },
  {
   "cell_type": "code",
   "execution_count": 8,
   "metadata": {},
   "outputs": [
    {
     "data": {
      "text/html": [
       "<div>\n",
       "<style scoped>\n",
       "    .dataframe tbody tr th:only-of-type {\n",
       "        vertical-align: middle;\n",
       "    }\n",
       "\n",
       "    .dataframe tbody tr th {\n",
       "        vertical-align: top;\n",
       "    }\n",
       "\n",
       "    .dataframe thead th {\n",
       "        text-align: right;\n",
       "    }\n",
       "</style>\n",
       "<table border=\"1\" class=\"dataframe\">\n",
       "  <thead>\n",
       "    <tr style=\"text-align: right;\">\n",
       "      <th></th>\n",
       "      <th>title</th>\n",
       "      <th>studio</th>\n",
       "      <th>domestic_gross</th>\n",
       "      <th>foreign_gross</th>\n",
       "      <th>year</th>\n",
       "    </tr>\n",
       "  </thead>\n",
       "  <tbody>\n",
       "    <tr>\n",
       "      <th>210</th>\n",
       "      <td>Outside the Law (Hors-la-loi)</td>\n",
       "      <td>NaN</td>\n",
       "      <td>96900.0</td>\n",
       "      <td>3300000</td>\n",
       "      <td>2010</td>\n",
       "    </tr>\n",
       "    <tr>\n",
       "      <th>555</th>\n",
       "      <td>Fireflies in the Garden</td>\n",
       "      <td>NaN</td>\n",
       "      <td>70600.0</td>\n",
       "      <td>3300000</td>\n",
       "      <td>2011</td>\n",
       "    </tr>\n",
       "    <tr>\n",
       "      <th>933</th>\n",
       "      <td>Keith Lemon: The Film</td>\n",
       "      <td>NaN</td>\n",
       "      <td>NaN</td>\n",
       "      <td>4000000</td>\n",
       "      <td>2012</td>\n",
       "    </tr>\n",
       "    <tr>\n",
       "      <th>1862</th>\n",
       "      <td>Plot for Peace</td>\n",
       "      <td>NaN</td>\n",
       "      <td>7100.0</td>\n",
       "      <td>NaN</td>\n",
       "      <td>2014</td>\n",
       "    </tr>\n",
       "    <tr>\n",
       "      <th>2825</th>\n",
       "      <td>Secret Superstar</td>\n",
       "      <td>NaN</td>\n",
       "      <td>NaN</td>\n",
       "      <td>122000000</td>\n",
       "      <td>2017</td>\n",
       "    </tr>\n",
       "  </tbody>\n",
       "</table>\n",
       "</div>"
      ],
      "text/plain": [
       "                              title studio  domestic_gross foreign_gross  year\n",
       "210   Outside the Law (Hors-la-loi)    NaN         96900.0       3300000  2010\n",
       "555         Fireflies in the Garden    NaN         70600.0       3300000  2011\n",
       "933           Keith Lemon: The Film    NaN             NaN       4000000  2012\n",
       "1862                 Plot for Peace    NaN          7100.0           NaN  2014\n",
       "2825               Secret Superstar    NaN             NaN     122000000  2017"
      ]
     },
     "execution_count": 8,
     "metadata": {},
     "output_type": "execute_result"
    }
   ],
   "source": [
    "studio_na"
   ]
  },
  {
   "cell_type": "code",
   "execution_count": 9,
   "metadata": {},
   "outputs": [],
   "source": [
    "# Drop films that have a NaN studio\n",
    "\n",
    "movie_gross_clean = movie_gross.dropna(subset=['studio'])"
   ]
  },
  {
   "cell_type": "code",
   "execution_count": 10,
   "metadata": {},
   "outputs": [],
   "source": [
    "# Replace NaN in revenue with 0\n",
    "\n",
    "to_replace = {'domestic_gross': 0, 'foreign_gross': 0}\n",
    "\n",
    "movie_gross_clean = movie_gross_clean.fillna(value=to_replace)"
   ]
  },
  {
   "cell_type": "code",
   "execution_count": 11,
   "metadata": {
    "scrolled": true
   },
   "outputs": [
    {
     "name": "stdout",
     "output_type": "stream",
     "text": [
      "<class 'pandas.core.frame.DataFrame'>\n",
      "Int64Index: 3382 entries, 0 to 3386\n",
      "Data columns (total 5 columns):\n",
      " #   Column          Non-Null Count  Dtype  \n",
      "---  ------          --------------  -----  \n",
      " 0   title           3382 non-null   object \n",
      " 1   studio          3382 non-null   object \n",
      " 2   domestic_gross  3382 non-null   float64\n",
      " 3   foreign_gross   3382 non-null   object \n",
      " 4   year            3382 non-null   int64  \n",
      "dtypes: float64(1), int64(1), object(3)\n",
      "memory usage: 158.5+ KB\n"
     ]
    }
   ],
   "source": [
    "movie_gross_clean.info()"
   ]
  },
  {
   "cell_type": "markdown",
   "metadata": {},
   "source": [
    "## The Numbers (TN) budgets\n",
    "\n",
    "### Data Cleaning Summary\n",
    "\n",
    "- Converted all budget info (revenue, costs) to integers\n",
    "- Calculated % and dollars of ROI. ROI calc is (worldwide gross - budget) / budget\n",
    "- Split release_date into separate month and year columns\n",
    "- Filtered for only movies after 2010. Rationale is that we are trying to make relevant recommendations to a newly launched studio. Trends prior to 2010 probably don't have as much relevance. There's an argument to be made that we should be filtering on even more recent data.\n",
    "- Removed movies with 0 worldwide_gross. Believe this is a combinatoin of (1) data error (confirmed released movies with revenue have 0 in this column) or (2) movies recently made that haven't been released yet.\n",
    "- Adjusted revenue / expenses for inflation (after confirming via Google searches that it wasn't already adjusted).\n",
    "- Decided to leave the 84 movies that were duplicated (given such a small part of the sample)\n",
    "\n",
    "source: https://www.usinflationcalculator.com\n"
   ]
  },
  {
   "cell_type": "code",
   "execution_count": 12,
   "metadata": {},
   "outputs": [
    {
     "data": {
      "text/html": [
       "<div>\n",
       "<style scoped>\n",
       "    .dataframe tbody tr th:only-of-type {\n",
       "        vertical-align: middle;\n",
       "    }\n",
       "\n",
       "    .dataframe tbody tr th {\n",
       "        vertical-align: top;\n",
       "    }\n",
       "\n",
       "    .dataframe thead th {\n",
       "        text-align: right;\n",
       "    }\n",
       "</style>\n",
       "<table border=\"1\" class=\"dataframe\">\n",
       "  <thead>\n",
       "    <tr style=\"text-align: right;\">\n",
       "      <th></th>\n",
       "      <th>id</th>\n",
       "      <th>release_date</th>\n",
       "      <th>movie</th>\n",
       "      <th>production_budget</th>\n",
       "      <th>domestic_gross</th>\n",
       "      <th>worldwide_gross</th>\n",
       "    </tr>\n",
       "  </thead>\n",
       "  <tbody>\n",
       "    <tr>\n",
       "      <th>0</th>\n",
       "      <td>1</td>\n",
       "      <td>Dec 18, 2009</td>\n",
       "      <td>Avatar</td>\n",
       "      <td>$425,000,000</td>\n",
       "      <td>$760,507,625</td>\n",
       "      <td>$2,776,345,279</td>\n",
       "    </tr>\n",
       "    <tr>\n",
       "      <th>1</th>\n",
       "      <td>2</td>\n",
       "      <td>May 20, 2011</td>\n",
       "      <td>Pirates of the Caribbean: On Stranger Tides</td>\n",
       "      <td>$410,600,000</td>\n",
       "      <td>$241,063,875</td>\n",
       "      <td>$1,045,663,875</td>\n",
       "    </tr>\n",
       "    <tr>\n",
       "      <th>2</th>\n",
       "      <td>3</td>\n",
       "      <td>Jun 7, 2019</td>\n",
       "      <td>Dark Phoenix</td>\n",
       "      <td>$350,000,000</td>\n",
       "      <td>$42,762,350</td>\n",
       "      <td>$149,762,350</td>\n",
       "    </tr>\n",
       "    <tr>\n",
       "      <th>3</th>\n",
       "      <td>4</td>\n",
       "      <td>May 1, 2015</td>\n",
       "      <td>Avengers: Age of Ultron</td>\n",
       "      <td>$330,600,000</td>\n",
       "      <td>$459,005,868</td>\n",
       "      <td>$1,403,013,963</td>\n",
       "    </tr>\n",
       "    <tr>\n",
       "      <th>4</th>\n",
       "      <td>5</td>\n",
       "      <td>Dec 15, 2017</td>\n",
       "      <td>Star Wars Ep. VIII: The Last Jedi</td>\n",
       "      <td>$317,000,000</td>\n",
       "      <td>$620,181,382</td>\n",
       "      <td>$1,316,721,747</td>\n",
       "    </tr>\n",
       "  </tbody>\n",
       "</table>\n",
       "</div>"
      ],
      "text/plain": [
       "   id  release_date                                        movie  \\\n",
       "0   1  Dec 18, 2009                                       Avatar   \n",
       "1   2  May 20, 2011  Pirates of the Caribbean: On Stranger Tides   \n",
       "2   3   Jun 7, 2019                                 Dark Phoenix   \n",
       "3   4   May 1, 2015                      Avengers: Age of Ultron   \n",
       "4   5  Dec 15, 2017            Star Wars Ep. VIII: The Last Jedi   \n",
       "\n",
       "  production_budget domestic_gross worldwide_gross  \n",
       "0      $425,000,000   $760,507,625  $2,776,345,279  \n",
       "1      $410,600,000   $241,063,875  $1,045,663,875  \n",
       "2      $350,000,000    $42,762,350    $149,762,350  \n",
       "3      $330,600,000   $459,005,868  $1,403,013,963  \n",
       "4      $317,000,000   $620,181,382  $1,316,721,747  "
      ]
     },
     "execution_count": 12,
     "metadata": {},
     "output_type": "execute_result"
    }
   ],
   "source": [
    "tn_budgets.head()"
   ]
  },
  {
   "cell_type": "code",
   "execution_count": 13,
   "metadata": {},
   "outputs": [
    {
     "name": "stdout",
     "output_type": "stream",
     "text": [
      "<class 'pandas.core.frame.DataFrame'>\n",
      "RangeIndex: 5782 entries, 0 to 5781\n",
      "Data columns (total 6 columns):\n",
      " #   Column             Non-Null Count  Dtype \n",
      "---  ------             --------------  ----- \n",
      " 0   id                 5782 non-null   int64 \n",
      " 1   release_date       5782 non-null   object\n",
      " 2   movie              5782 non-null   object\n",
      " 3   production_budget  5782 non-null   object\n",
      " 4   domestic_gross     5782 non-null   object\n",
      " 5   worldwide_gross    5782 non-null   object\n",
      "dtypes: int64(1), object(5)\n",
      "memory usage: 271.2+ KB\n"
     ]
    }
   ],
   "source": [
    "tn_budgets.info()"
   ]
  },
  {
   "cell_type": "code",
   "execution_count": 14,
   "metadata": {},
   "outputs": [
    {
     "data": {
      "text/plain": [
       "84"
      ]
     },
     "execution_count": 14,
     "metadata": {},
     "output_type": "execute_result"
    }
   ],
   "source": [
    "tn_budgets['movie'].duplicated().sum()"
   ]
  },
  {
   "cell_type": "code",
   "execution_count": 15,
   "metadata": {},
   "outputs": [],
   "source": [
    "# Convert string columns to int\n",
    "\n",
    "rev_cols = ['production_budget', 'domestic_gross', 'worldwide_gross']\n",
    "\n",
    "tn_budgets.loc[:,rev_cols] = tn_budgets.loc[:,rev_cols].applymap(lambda x: int(x.replace('$', '').replace(',','')))"
   ]
  },
  {
   "cell_type": "code",
   "execution_count": 16,
   "metadata": {},
   "outputs": [
    {
     "data": {
      "text/html": [
       "<div>\n",
       "<style scoped>\n",
       "    .dataframe tbody tr th:only-of-type {\n",
       "        vertical-align: middle;\n",
       "    }\n",
       "\n",
       "    .dataframe tbody tr th {\n",
       "        vertical-align: top;\n",
       "    }\n",
       "\n",
       "    .dataframe thead th {\n",
       "        text-align: right;\n",
       "    }\n",
       "</style>\n",
       "<table border=\"1\" class=\"dataframe\">\n",
       "  <thead>\n",
       "    <tr style=\"text-align: right;\">\n",
       "      <th></th>\n",
       "      <th>id</th>\n",
       "      <th>release_date</th>\n",
       "      <th>movie</th>\n",
       "      <th>production_budget</th>\n",
       "      <th>domestic_gross</th>\n",
       "      <th>worldwide_gross</th>\n",
       "    </tr>\n",
       "  </thead>\n",
       "  <tbody>\n",
       "    <tr>\n",
       "      <th>0</th>\n",
       "      <td>1</td>\n",
       "      <td>Dec 18, 2009</td>\n",
       "      <td>Avatar</td>\n",
       "      <td>425000000</td>\n",
       "      <td>760507625</td>\n",
       "      <td>2776345279</td>\n",
       "    </tr>\n",
       "    <tr>\n",
       "      <th>1</th>\n",
       "      <td>2</td>\n",
       "      <td>May 20, 2011</td>\n",
       "      <td>Pirates of the Caribbean: On Stranger Tides</td>\n",
       "      <td>410600000</td>\n",
       "      <td>241063875</td>\n",
       "      <td>1045663875</td>\n",
       "    </tr>\n",
       "    <tr>\n",
       "      <th>2</th>\n",
       "      <td>3</td>\n",
       "      <td>Jun 7, 2019</td>\n",
       "      <td>Dark Phoenix</td>\n",
       "      <td>350000000</td>\n",
       "      <td>42762350</td>\n",
       "      <td>149762350</td>\n",
       "    </tr>\n",
       "    <tr>\n",
       "      <th>3</th>\n",
       "      <td>4</td>\n",
       "      <td>May 1, 2015</td>\n",
       "      <td>Avengers: Age of Ultron</td>\n",
       "      <td>330600000</td>\n",
       "      <td>459005868</td>\n",
       "      <td>1403013963</td>\n",
       "    </tr>\n",
       "    <tr>\n",
       "      <th>4</th>\n",
       "      <td>5</td>\n",
       "      <td>Dec 15, 2017</td>\n",
       "      <td>Star Wars Ep. VIII: The Last Jedi</td>\n",
       "      <td>317000000</td>\n",
       "      <td>620181382</td>\n",
       "      <td>1316721747</td>\n",
       "    </tr>\n",
       "  </tbody>\n",
       "</table>\n",
       "</div>"
      ],
      "text/plain": [
       "   id  release_date                                        movie  \\\n",
       "0   1  Dec 18, 2009                                       Avatar   \n",
       "1   2  May 20, 2011  Pirates of the Caribbean: On Stranger Tides   \n",
       "2   3   Jun 7, 2019                                 Dark Phoenix   \n",
       "3   4   May 1, 2015                      Avengers: Age of Ultron   \n",
       "4   5  Dec 15, 2017            Star Wars Ep. VIII: The Last Jedi   \n",
       "\n",
       "   production_budget  domestic_gross  worldwide_gross  \n",
       "0          425000000       760507625       2776345279  \n",
       "1          410600000       241063875       1045663875  \n",
       "2          350000000        42762350        149762350  \n",
       "3          330600000       459005868       1403013963  \n",
       "4          317000000       620181382       1316721747  "
      ]
     },
     "execution_count": 16,
     "metadata": {},
     "output_type": "execute_result"
    }
   ],
   "source": [
    "tn_budgets.head()"
   ]
  },
  {
   "cell_type": "code",
   "execution_count": 17,
   "metadata": {},
   "outputs": [],
   "source": [
    "# Calculate ROI ($ and %)\n",
    "\n",
    "tn_budgets['ROI_percent'] = (tn_budgets['worldwide_gross'] - tn_budgets['production_budget']) / tn_budgets['production_budget']\n",
    "tn_budgets['ROI_usd'] = tn_budgets['worldwide_gross'] - tn_budgets['production_budget']"
   ]
  },
  {
   "cell_type": "code",
   "execution_count": 18,
   "metadata": {},
   "outputs": [],
   "source": [
    "# Parse release date for year / months\n",
    "\n",
    "tn_budgets['year'] = tn_budgets['release_date'].apply(lambda x: int(x[-4:]))\n",
    "tn_budgets['month'] = tn_budgets['release_date'].apply(lambda x: x[:3])\n",
    "\n",
    "month_full = {'Jan': 'January', 'Feb': 'February', 'Mar': 'March', 'Apr': 'April', 'Jun': 'June',\n",
    "             'Jul': 'July', 'Aug': 'August', 'Sep': 'September', 'Oct': 'October', 'Nov': 'November',\n",
    "              'Dec': 'December'}\n",
    "\n",
    "tn_budgets['month'] = tn_budgets['month'].replace(month_full)"
   ]
  },
  {
   "cell_type": "code",
   "execution_count": 19,
   "metadata": {},
   "outputs": [],
   "source": [
    "# Filter for only recent releases\n",
    "\n",
    "tn_budgets_recent = tn_budgets[tn_budgets['year'] >= 1990]"
   ]
  },
  {
   "cell_type": "code",
   "execution_count": 20,
   "metadata": {},
   "outputs": [],
   "source": [
    "# Filter out movies with 0 world_wide gross\n",
    "\n",
    "tn_budgets_recent = tn_budgets_recent[tn_budgets_recent['worldwide_gross'] != 0]"
   ]
  },
  {
   "cell_type": "code",
   "execution_count": 21,
   "metadata": {},
   "outputs": [],
   "source": [
    "# Adjust revenue #'s for inflation\n",
    "\n",
    "years = list(range(1990,2022))\n",
    "\n",
    "inflation = [2.09, 2.00, 1.95, 1.89, 1.84, 1.79, 1.74, 1.70, 1.67, 1.64, 1.59, 1.54, 1.52, 1.48, 1.45, 1.40, 1.35, \n",
    "1.32, 1.27, 1.27, 1.25, 1.21, 1.19, 1.17, 1.15, 1.15, 1.14, 1.11, 1.09, 1.07, 1.05, 1.00]\n",
    "\n",
    "inflation_dict = dict(zip(years,inflation))"
   ]
  },
  {
   "cell_type": "code",
   "execution_count": 22,
   "metadata": {},
   "outputs": [],
   "source": [
    "tn_budgets_recent['inflation'] = tn_budgets_recent['year'].apply(lambda x: inflation_dict[x])"
   ]
  },
  {
   "cell_type": "code",
   "execution_count": 23,
   "metadata": {},
   "outputs": [],
   "source": [
    "# Convert all $ to 2021\n",
    "\n",
    "tn_budgets_recent['worldwide_gross_inf'] = tn_budgets_recent.loc[:,'worldwide_gross'] * tn_budgets_recent.loc[:,'inflation']\n",
    "tn_budgets_recent['domestic_gross_inf'] = tn_budgets_recent.loc[:,'domestic_gross'] * tn_budgets_recent.loc[:,'inflation']\n",
    "tn_budgets_recent['production_budget_inf'] = tn_budgets_recent.loc[:,'production_budget'] * tn_budgets_recent.loc[:,'inflation']"
   ]
  },
  {
   "cell_type": "code",
   "execution_count": 24,
   "metadata": {},
   "outputs": [],
   "source": [
    "tn_budgets_recent['ROI_USD_inf'] = tn_budgets_recent['worldwide_gross_inf'] - tn_budgets_recent['production_budget_inf']"
   ]
  },
  {
   "cell_type": "code",
   "execution_count": 25,
   "metadata": {},
   "outputs": [],
   "source": [
    "# Filter for only recent releases\n",
    "\n",
    "tn_budgets_recent = tn_budgets_recent[tn_budgets_recent['year'] >= first_year]"
   ]
  },
  {
   "cell_type": "code",
   "execution_count": 26,
   "metadata": {},
   "outputs": [],
   "source": [
    "tn_budgets_clean = tn_budgets_recent.copy()"
   ]
  },
  {
   "cell_type": "code",
   "execution_count": 27,
   "metadata": {},
   "outputs": [
    {
     "data": {
      "text/html": [
       "<div>\n",
       "<style scoped>\n",
       "    .dataframe tbody tr th:only-of-type {\n",
       "        vertical-align: middle;\n",
       "    }\n",
       "\n",
       "    .dataframe tbody tr th {\n",
       "        vertical-align: top;\n",
       "    }\n",
       "\n",
       "    .dataframe thead th {\n",
       "        text-align: right;\n",
       "    }\n",
       "</style>\n",
       "<table border=\"1\" class=\"dataframe\">\n",
       "  <thead>\n",
       "    <tr style=\"text-align: right;\">\n",
       "      <th></th>\n",
       "      <th>id</th>\n",
       "      <th>release_date</th>\n",
       "      <th>movie</th>\n",
       "      <th>production_budget</th>\n",
       "      <th>domestic_gross</th>\n",
       "      <th>worldwide_gross</th>\n",
       "      <th>ROI_percent</th>\n",
       "      <th>ROI_usd</th>\n",
       "      <th>year</th>\n",
       "      <th>month</th>\n",
       "      <th>inflation</th>\n",
       "      <th>worldwide_gross_inf</th>\n",
       "      <th>domestic_gross_inf</th>\n",
       "      <th>production_budget_inf</th>\n",
       "      <th>ROI_USD_inf</th>\n",
       "    </tr>\n",
       "  </thead>\n",
       "  <tbody>\n",
       "    <tr>\n",
       "      <th>0</th>\n",
       "      <td>1</td>\n",
       "      <td>Dec 18, 2009</td>\n",
       "      <td>Avatar</td>\n",
       "      <td>425000000</td>\n",
       "      <td>760507625</td>\n",
       "      <td>2776345279</td>\n",
       "      <td>5.532577</td>\n",
       "      <td>2351345279</td>\n",
       "      <td>2009</td>\n",
       "      <td>December</td>\n",
       "      <td>1.27</td>\n",
       "      <td>3.525959e+09</td>\n",
       "      <td>9.658447e+08</td>\n",
       "      <td>539750000.0</td>\n",
       "      <td>2.986209e+09</td>\n",
       "    </tr>\n",
       "    <tr>\n",
       "      <th>1</th>\n",
       "      <td>2</td>\n",
       "      <td>May 20, 2011</td>\n",
       "      <td>Pirates of the Caribbean: On Stranger Tides</td>\n",
       "      <td>410600000</td>\n",
       "      <td>241063875</td>\n",
       "      <td>1045663875</td>\n",
       "      <td>1.546673</td>\n",
       "      <td>635063875</td>\n",
       "      <td>2011</td>\n",
       "      <td>May</td>\n",
       "      <td>1.21</td>\n",
       "      <td>1.265253e+09</td>\n",
       "      <td>2.916873e+08</td>\n",
       "      <td>496826000.0</td>\n",
       "      <td>7.684273e+08</td>\n",
       "    </tr>\n",
       "    <tr>\n",
       "      <th>2</th>\n",
       "      <td>3</td>\n",
       "      <td>Jun 7, 2019</td>\n",
       "      <td>Dark Phoenix</td>\n",
       "      <td>350000000</td>\n",
       "      <td>42762350</td>\n",
       "      <td>149762350</td>\n",
       "      <td>-0.572108</td>\n",
       "      <td>-200237650</td>\n",
       "      <td>2019</td>\n",
       "      <td>June</td>\n",
       "      <td>1.07</td>\n",
       "      <td>1.602457e+08</td>\n",
       "      <td>4.575571e+07</td>\n",
       "      <td>374500000.0</td>\n",
       "      <td>-2.142543e+08</td>\n",
       "    </tr>\n",
       "    <tr>\n",
       "      <th>3</th>\n",
       "      <td>4</td>\n",
       "      <td>May 1, 2015</td>\n",
       "      <td>Avengers: Age of Ultron</td>\n",
       "      <td>330600000</td>\n",
       "      <td>459005868</td>\n",
       "      <td>1403013963</td>\n",
       "      <td>3.243841</td>\n",
       "      <td>1072413963</td>\n",
       "      <td>2015</td>\n",
       "      <td>May</td>\n",
       "      <td>1.15</td>\n",
       "      <td>1.613466e+09</td>\n",
       "      <td>5.278567e+08</td>\n",
       "      <td>380190000.0</td>\n",
       "      <td>1.233276e+09</td>\n",
       "    </tr>\n",
       "    <tr>\n",
       "      <th>4</th>\n",
       "      <td>5</td>\n",
       "      <td>Dec 15, 2017</td>\n",
       "      <td>Star Wars Ep. VIII: The Last Jedi</td>\n",
       "      <td>317000000</td>\n",
       "      <td>620181382</td>\n",
       "      <td>1316721747</td>\n",
       "      <td>3.153696</td>\n",
       "      <td>999721747</td>\n",
       "      <td>2017</td>\n",
       "      <td>December</td>\n",
       "      <td>1.11</td>\n",
       "      <td>1.461561e+09</td>\n",
       "      <td>6.884013e+08</td>\n",
       "      <td>351870000.0</td>\n",
       "      <td>1.109691e+09</td>\n",
       "    </tr>\n",
       "  </tbody>\n",
       "</table>\n",
       "</div>"
      ],
      "text/plain": [
       "   id  release_date                                        movie  \\\n",
       "0   1  Dec 18, 2009                                       Avatar   \n",
       "1   2  May 20, 2011  Pirates of the Caribbean: On Stranger Tides   \n",
       "2   3   Jun 7, 2019                                 Dark Phoenix   \n",
       "3   4   May 1, 2015                      Avengers: Age of Ultron   \n",
       "4   5  Dec 15, 2017            Star Wars Ep. VIII: The Last Jedi   \n",
       "\n",
       "   production_budget  domestic_gross  worldwide_gross  ROI_percent  \\\n",
       "0          425000000       760507625       2776345279     5.532577   \n",
       "1          410600000       241063875       1045663875     1.546673   \n",
       "2          350000000        42762350        149762350    -0.572108   \n",
       "3          330600000       459005868       1403013963     3.243841   \n",
       "4          317000000       620181382       1316721747     3.153696   \n",
       "\n",
       "      ROI_usd  year     month  inflation  worldwide_gross_inf  \\\n",
       "0  2351345279  2009  December       1.27         3.525959e+09   \n",
       "1   635063875  2011       May       1.21         1.265253e+09   \n",
       "2  -200237650  2019      June       1.07         1.602457e+08   \n",
       "3  1072413963  2015       May       1.15         1.613466e+09   \n",
       "4   999721747  2017  December       1.11         1.461561e+09   \n",
       "\n",
       "   domestic_gross_inf  production_budget_inf   ROI_USD_inf  \n",
       "0        9.658447e+08            539750000.0  2.986209e+09  \n",
       "1        2.916873e+08            496826000.0  7.684273e+08  \n",
       "2        4.575571e+07            374500000.0 -2.142543e+08  \n",
       "3        5.278567e+08            380190000.0  1.233276e+09  \n",
       "4        6.884013e+08            351870000.0  1.109691e+09  "
      ]
     },
     "execution_count": 27,
     "metadata": {},
     "output_type": "execute_result"
    }
   ],
   "source": [
    "tn_budgets_clean.head()"
   ]
  },
  {
   "cell_type": "markdown",
   "metadata": {},
   "source": [
    "## Dataworld movies / reviews\n",
    "\n",
    "- Cleaning: Separated Name/year from the same column\n",
    "- Separated genre into a list\n",
    "- Joined the databases together\n",
    "- Drop the few NaN values from genre. Only 80 out of 38K\n",
    "- For the reviews. Group by movie ID and aggregate average review and count\n",
    "- Set threshold for 50 reviews to be included in the dataset"
   ]
  },
  {
   "cell_type": "code",
   "execution_count": 28,
   "metadata": {
    "scrolled": true
   },
   "outputs": [
    {
     "name": "stdout",
     "output_type": "stream",
     "text": [
      "<class 'pandas.core.frame.DataFrame'>\n",
      "RangeIndex: 37700 entries, 0 to 37699\n",
      "Data columns (total 3 columns):\n",
      " #   Column     Non-Null Count  Dtype \n",
      "---  ------     --------------  ----- \n",
      " 0   movie_id   37700 non-null  int64 \n",
      " 1   name/year  37700 non-null  object\n",
      " 2   genre      37629 non-null  object\n",
      "dtypes: int64(1), object(2)\n",
      "memory usage: 883.7+ KB\n"
     ]
    }
   ],
   "source": [
    "dataworld_movies.info()"
   ]
  },
  {
   "cell_type": "code",
   "execution_count": 29,
   "metadata": {},
   "outputs": [],
   "source": [
    "# Create a copy\n",
    "\n",
    "dataworld_clean = dataworld_movies.copy()"
   ]
  },
  {
   "cell_type": "code",
   "execution_count": 30,
   "metadata": {},
   "outputs": [],
   "source": [
    "# Separate out name and year into separate columns\n",
    "\n",
    "dataworld_clean['year'] = dataworld_clean.loc[:,'name/year'].apply(lambda x: int(x[-5:-1]))\n",
    "dataworld_clean['name'] = dataworld_clean.loc[:,'name/year'].apply(lambda x: x[0:-7])"
   ]
  },
  {
   "cell_type": "code",
   "execution_count": 31,
   "metadata": {},
   "outputs": [],
   "source": [
    "# Drop NAs\n",
    "\n",
    "dataworld_clean.dropna(subset=['genre'], inplace=True)"
   ]
  },
  {
   "cell_type": "code",
   "execution_count": 32,
   "metadata": {},
   "outputs": [],
   "source": [
    "# Separate out the different genres\n",
    "\n",
    "dataworld_clean['genre_list'] = dataworld_clean.loc[:,'genre'].apply(lambda x: x.split('|'))\n",
    "dataworld_clean['genre_length'] = dataworld_clean.loc[:,'genre_list'].apply(lambda x: len(x))"
   ]
  },
  {
   "cell_type": "code",
   "execution_count": 33,
   "metadata": {},
   "outputs": [],
   "source": [
    "# Add multiple genres to their own columns\n",
    "\n",
    "# for i in range(10):\n",
    "#     dataworld_clean[f\"Genre{i + 1}\"] = dataworld_clean['genre_list'].apply(lambda x: x[i] if len(x) > i else np.NaN)"
   ]
  },
  {
   "cell_type": "code",
   "execution_count": 34,
   "metadata": {
    "scrolled": true
   },
   "outputs": [
    {
     "name": "stdout",
     "output_type": "stream",
     "text": [
      "<class 'pandas.core.frame.DataFrame'>\n",
      "RangeIndex: 915370 entries, 0 to 915369\n",
      "Data columns (total 4 columns):\n",
      " #   Column            Non-Null Count   Dtype\n",
      "---  ------            --------------   -----\n",
      " 0   user_id           915370 non-null  int64\n",
      " 1   movie_id          915370 non-null  int64\n",
      " 2   rating            915370 non-null  int64\n",
      " 3   rating_timestamp  915370 non-null  int64\n",
      "dtypes: int64(4)\n",
      "memory usage: 27.9 MB\n"
     ]
    }
   ],
   "source": [
    "dataworld_reviews.info()"
   ]
  },
  {
   "cell_type": "code",
   "execution_count": 35,
   "metadata": {},
   "outputs": [
    {
     "data": {
      "text/html": [
       "<div>\n",
       "<style scoped>\n",
       "    .dataframe tbody tr th:only-of-type {\n",
       "        vertical-align: middle;\n",
       "    }\n",
       "\n",
       "    .dataframe tbody tr th {\n",
       "        vertical-align: top;\n",
       "    }\n",
       "\n",
       "    .dataframe thead th {\n",
       "        text-align: right;\n",
       "    }\n",
       "</style>\n",
       "<table border=\"1\" class=\"dataframe\">\n",
       "  <thead>\n",
       "    <tr style=\"text-align: right;\">\n",
       "      <th></th>\n",
       "      <th>user_id</th>\n",
       "      <th>movie_id</th>\n",
       "      <th>rating</th>\n",
       "      <th>rating_timestamp</th>\n",
       "    </tr>\n",
       "  </thead>\n",
       "  <tbody>\n",
       "    <tr>\n",
       "      <th>0</th>\n",
       "      <td>1</td>\n",
       "      <td>114508</td>\n",
       "      <td>8</td>\n",
       "      <td>1381006850</td>\n",
       "    </tr>\n",
       "    <tr>\n",
       "      <th>1</th>\n",
       "      <td>2</td>\n",
       "      <td>499549</td>\n",
       "      <td>9</td>\n",
       "      <td>1376753198</td>\n",
       "    </tr>\n",
       "    <tr>\n",
       "      <th>2</th>\n",
       "      <td>2</td>\n",
       "      <td>1305591</td>\n",
       "      <td>8</td>\n",
       "      <td>1376742507</td>\n",
       "    </tr>\n",
       "    <tr>\n",
       "      <th>3</th>\n",
       "      <td>2</td>\n",
       "      <td>1428538</td>\n",
       "      <td>1</td>\n",
       "      <td>1371307089</td>\n",
       "    </tr>\n",
       "    <tr>\n",
       "      <th>4</th>\n",
       "      <td>3</td>\n",
       "      <td>75314</td>\n",
       "      <td>1</td>\n",
       "      <td>1595468524</td>\n",
       "    </tr>\n",
       "  </tbody>\n",
       "</table>\n",
       "</div>"
      ],
      "text/plain": [
       "   user_id  movie_id  rating  rating_timestamp\n",
       "0        1    114508       8        1381006850\n",
       "1        2    499549       9        1376753198\n",
       "2        2   1305591       8        1376742507\n",
       "3        2   1428538       1        1371307089\n",
       "4        3     75314       1        1595468524"
      ]
     },
     "execution_count": 35,
     "metadata": {},
     "output_type": "execute_result"
    }
   ],
   "source": [
    "dataworld_reviews.head()"
   ]
  },
  {
   "cell_type": "code",
   "execution_count": 36,
   "metadata": {},
   "outputs": [],
   "source": [
    "reviews_clean = dataworld_reviews.copy()"
   ]
  },
  {
   "cell_type": "code",
   "execution_count": 37,
   "metadata": {},
   "outputs": [],
   "source": [
    "reviews_clean['rating2'] = reviews_clean.loc[:,'rating']"
   ]
  },
  {
   "cell_type": "code",
   "execution_count": 38,
   "metadata": {},
   "outputs": [],
   "source": [
    "# Aggregate movies by avg review and review_count\n",
    "\n",
    "new_cols = {'rating': 'avg_rating', 'rating2': 'rating_count'}\n",
    "reviews_clean = reviews_clean.groupby('movie_id').agg({'rating':'mean', 'rating2':'count'}).rename(columns=new_cols)"
   ]
  },
  {
   "cell_type": "code",
   "execution_count": 39,
   "metadata": {},
   "outputs": [],
   "source": [
    "# Join the two dataframes on movieID\n",
    "\n",
    "dataworld_clean = dataworld_clean.merge(reviews_clean, on='movie_id', how='left')"
   ]
  },
  {
   "cell_type": "code",
   "execution_count": 40,
   "metadata": {},
   "outputs": [],
   "source": [
    "# Filter for only movies made since 2000\n",
    "\n",
    "dataworld_clean = dataworld_clean[dataworld_clean['year'] >= first_year]"
   ]
  },
  {
   "cell_type": "code",
   "execution_count": 41,
   "metadata": {},
   "outputs": [],
   "source": [
    "# Filter for movies with at least 50 reviews\n",
    "\n",
    "dataworld_clean = dataworld_clean[dataworld_clean['rating_count'] >= review_count_threshold]"
   ]
  },
  {
   "cell_type": "code",
   "execution_count": 42,
   "metadata": {},
   "outputs": [
    {
     "name": "stdout",
     "output_type": "stream",
     "text": [
      "<class 'pandas.core.frame.DataFrame'>\n",
      "Int64Index: 2460 entries, 9580 to 37469\n",
      "Data columns (total 9 columns):\n",
      " #   Column        Non-Null Count  Dtype  \n",
      "---  ------        --------------  -----  \n",
      " 0   movie_id      2460 non-null   int64  \n",
      " 1   name/year     2460 non-null   object \n",
      " 2   genre         2460 non-null   object \n",
      " 3   year          2460 non-null   int64  \n",
      " 4   name          2460 non-null   object \n",
      " 5   genre_list    2460 non-null   object \n",
      " 6   genre_length  2460 non-null   int64  \n",
      " 7   avg_rating    2460 non-null   float64\n",
      " 8   rating_count  2460 non-null   int64  \n",
      "dtypes: float64(1), int64(4), object(4)\n",
      "memory usage: 192.2+ KB\n"
     ]
    }
   ],
   "source": [
    "dataworld_clean.info()"
   ]
  },
  {
   "cell_type": "code",
   "execution_count": 43,
   "metadata": {},
   "outputs": [],
   "source": [
    "# Final datasets to export to CSV\n",
    "\n",
    "movie_gross_clean.to_csv('movies_gross_clean.csv')\n",
    "tn_budgets_clean.to_csv('theNumbers_clean.csv')\n",
    "dataworld_clean.to_csv('twitter_reviews_clean.csv')"
   ]
  },
  {
   "cell_type": "code",
   "execution_count": 44,
   "metadata": {},
   "outputs": [
    {
     "data": {
      "text/plain": [
       "'/Users/jeffreymarvel/Flatiron/Phase 1/Projects/MovieAnalysis'"
      ]
     },
     "execution_count": 44,
     "metadata": {},
     "output_type": "execute_result"
    }
   ],
   "source": [
    "pwd"
   ]
  },
  {
   "cell_type": "code",
   "execution_count": 45,
   "metadata": {},
   "outputs": [
    {
     "name": "stdout",
     "output_type": "stream",
     "text": [
      "Data_cleaning_marvel.ipynb    movies_gross_clean.csv\r\n",
      "IDE_marvel.ipynb              profitability_join.ipynb\r\n",
      "README.md                     rating_analysis_marvel.ipynb\r\n",
      "Twitter_API.ipynb             ratings.dat\r\n",
      "\u001b[1m\u001b[34mcleanIMDB\u001b[m\u001b[m/                    theNumbers_clean.csv\r\n",
      "imdb_combined_prof.csv        twitter_reviews_clean.csv\r\n",
      "movies.dat                    \u001b[1m\u001b[34mzippedData\u001b[m\u001b[m/\r\n"
     ]
    }
   ],
   "source": [
    "ls"
   ]
  }
 ],
 "metadata": {
  "kernelspec": {
   "display_name": "Python (learn-env)",
   "language": "python",
   "name": "learn-env"
  },
  "language_info": {
   "codemirror_mode": {
    "name": "ipython",
    "version": 3
   },
   "file_extension": ".py",
   "mimetype": "text/x-python",
   "name": "python",
   "nbconvert_exporter": "python",
   "pygments_lexer": "ipython3",
   "version": "3.8.5"
  }
 },
 "nbformat": 4,
 "nbformat_minor": 4
}
